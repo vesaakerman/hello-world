{
  "cells": [
    {
      "cell_type": "markdown",
      "metadata": {
        "id": "view-in-github",
        "colab_type": "text"
      },
      "source": [
        "<a href=\"https://colab.research.google.com/github/vesaakerman/hello-world/blob/master/notebooks/eBible_Extract_projects.ipynb\" target=\"_parent\"><img src=\"https://colab.research.google.com/assets/colab-badge.svg\" alt=\"Open In Colab\"/></a>"
      ]
    },
    {
      "cell_type": "code",
      "execution_count": 1,
      "metadata": {
        "colab": {
          "base_uri": "https://localhost:8080/"
        },
        "id": "_8dvXZnMNniY",
        "outputId": "f629eb8c-8e1f-4832-da43-14417481b595"
      },
      "outputs": [
        {
          "output_type": "stream",
          "name": "stdout",
          "text": [
            "Mounted at /content/drive\n"
          ]
        }
      ],
      "source": [
        "from google.colab import drive\n",
        "drive.mount('/content/drive')"
      ]
    },
    {
      "cell_type": "markdown",
      "source": [
        "# Define base folder"
      ],
      "metadata": {
        "id": "awnVICVNmGVf"
      }
    },
    {
      "cell_type": "code",
      "source": [
        "base = \"/content/drive/MyDrive/eBible/\""
      ],
      "metadata": {
        "id": "V-dpuImLmX4J"
      },
      "execution_count": 4,
      "outputs": []
    },
    {
      "cell_type": "markdown",
      "metadata": {
        "id": "j6Az2jLOoHPa"
      },
      "source": [
        "# Import modules, define rewrite boolean, directory paths and logging file"
      ]
    },
    {
      "cell_type": "code",
      "execution_count": 6,
      "metadata": {
        "id": "JsAEZs5WoPbv",
        "colab": {
          "base_uri": "https://localhost:8080/"
        },
        "outputId": "607b8399-5ef5-454e-f417-5b77b076c4be"
      },
      "outputs": [
        {
          "output_type": "stream",
          "name": "stdout",
          "text": [
            "/content/drive/MyDrive/eBible/projects\n",
            "/content/drive/MyDrive/eBible/metadata\n",
            "/content/drive/MyDrive/eBible/metadata/translations.csv\n",
            "/content/drive/MyDrive/eBible/metadata/copyrights.csv\n",
            "/content/drive/MyDrive/eBible/redistributable/projects\n",
            "/content/drive/MyDrive/eBible/MT/scripture\n",
            "/content/drive/Shareddrives/Partnership for Applied Biblical NLP/Data/Corpora/Paratext_projects\n",
            "rewrite = True\n"
          ]
        }
      ],
      "source": [
        "from pathlib import Path\n",
        "from datetime import date, datetime\n",
        "from os import listdir, makedirs, environ\n",
        "from os.path import exists\n",
        "import pandas as pd\n",
        "import shutil\n",
        "import warnings\n",
        "import xml.etree.ElementTree as ET\n",
        "import re\n",
        "\n",
        "warnings.simplefilter(action='ignore', category=FutureWarning)\n",
        "\n",
        "rewrite = True  # tells if the project is overwritten when it already exists\n",
        "\n",
        "corpus = Path(base)\n",
        "ebible_projects = corpus / 'projects'\n",
        "ebible_metadata = corpus / 'metadata'\n",
        "ebible_translations_csv = ebible_metadata / 'translations.csv'\n",
        "ebible_copyright_csv = ebible_metadata / 'copyrights.csv'\n",
        "ebible_redistributable = corpus / \"redistributable/projects\"\n",
        "ebible_extractions = corpus / \"MT/scripture\"\n",
        "paratext_projects = Path(\"/content/drive/Shareddrives/Partnership for Applied Biblical NLP/Data/Corpora/Paratext_projects\")\n",
        "\n",
        "print(ebible_projects)\n",
        "print(ebible_metadata)\n",
        "print(ebible_translations_csv)\n",
        "print(ebible_copyright_csv)\n",
        "print(ebible_redistributable)\n",
        "print(ebible_extractions)\n",
        "print(paratext_projects)\n",
        "print(f\"rewrite = {rewrite}\")"
      ]
    },
    {
      "cell_type": "markdown",
      "source": [
        "# Install packages and clone the silnlp repo"
      ],
      "metadata": {
        "id": "wk_2lgrHjLGp"
      }
    },
    {
      "cell_type": "code",
      "source": [
        "!pip install python-dotenv\n",
        "!pip install sil-machine\n",
        "!pip install boto3\n",
        "!pip install s3path\n",
        "!pip install requests\n",
        "\n",
        "!git clone https://github.com/sillsdev/silnlp"
      ],
      "metadata": {
        "id": "cpIB4aWzjUpL"
      },
      "execution_count": null,
      "outputs": []
    },
    {
      "cell_type": "markdown",
      "metadata": {
        "id": "lMdkvOPbzdMg"
      },
      "source": [
        "# Define methods"
      ]
    },
    {
      "cell_type": "code",
      "execution_count": 8,
      "metadata": {
        "id": "mHI0bcJYz6ID"
      },
      "outputs": [],
      "source": [
        "# Columns are easier to use if they are valid python identifiers:\n",
        "def improve_column_names(df): df.columns = df.columns.str.strip().str.lower().str.replace('\"', '').str.replace(\"'\", '')\\\n",
        "    .str.replace('(', '').str.replace(')', '').str.replace(' ', '_')\n",
        "\n",
        "\n",
        "def log_and_print(s, type='ínfo'):\n",
        "    if type == \"error\":\n",
        "        log_file.write(f\"ERROR: {datetime.now()} {s}\\n\")\n",
        "    else:\n",
        "        log_file.write(f\"INFO: {datetime.now()} {s}\\n\")\n",
        "    print(s)\n",
        "\n",
        "\n",
        "def add_settings_file(project, language_code):\n",
        "    fake_setting_file = \"\"\"<ScriptureText>\n",
        "    <Versification>4</Versification>\n",
        "    <LanguageIsoCode>aak:::</LanguageIsoCode>\n",
        "    <Naming BookNameForm=\"41-MAT\" PostPart=\".usfm\" PrePart=\"\" />\n",
        "</ScriptureText>\"\"\"\n",
        "\n",
        "    settings_file = project / 'Settings.xml'\n",
        "    f = open(settings_file, \"w\")\n",
        "    f.write(fake_setting_file)\n",
        "    f.close()\n",
        "\n",
        "    try:\n",
        "        tree = ET.parse(settings_file)\n",
        "        naming = tree.find('.//Naming')\n",
        "        naming.attrib['PostPart'] = naming.attrib['PostPart'].replace('.', project.name + '.')\n",
        "        iso = tree.find('.//LanguageIsoCode')\n",
        "        iso.text = f\"{language_code}:::\"\n",
        "        tree.write(settings_file)\n",
        "    except FileNotFoundError:\n",
        "        log_and_print(f\"could not find file {settings_file}\")\n",
        "    except IndexError:\n",
        "        log_and_print(f\"IndexError finding Naming in {settings_file}\")\n",
        "        pass\n",
        "\n",
        "\n",
        "def get_matching_paratext_project_name(paratext_projects, project_name):\n",
        "    if exists(paratext_projects / project_name):\n",
        "        return project_name\n",
        "    elif project_name.startswith(\"eng-\"):\n",
        "        name = project_name.replace(\"eng-\", \"eng\")\n",
        "        if (paratext_projects / name).exists():\n",
        "            return name\n",
        "        else:\n",
        "            m = re.search('(.*?)[0-9]+', name)\n",
        "            if m and m.group(1) and (paratext_projects / m.group(1)).exists():\n",
        "                return m.group(1)\n",
        "    return None\n",
        "\n",
        "\n",
        "def get_matching_paratext_projects():\n",
        "    matching_projects = []\n",
        "\n",
        "    for project in ebible_redistributable.glob(\"*\"):\n",
        "        matching_paratext_project = get_matching_paratext_project_name(paratext_projects, project.name)\n",
        "        if matching_paratext_project:\n",
        "            matching_projects.append((project.name, matching_paratext_project))\n",
        "\n",
        "    return matching_projects\n",
        "\n",
        "\n",
        "def get_versification_from_settings_file(settings_file):\n",
        "    versification = None\n",
        "    try:\n",
        "        tree = ET.parse(settings_file)\n",
        "        versification_elem = tree.find('.//Versification')\n",
        "        try:\n",
        "            versification = versification_elem.text\n",
        "        except:\n",
        "            pass\n",
        "    except FileNotFoundError:\n",
        "        log_and_print(f\"could not find file {settings_file}\", \"error\")\n",
        "    except IndexError:\n",
        "        log_and_print(f\"IndexError finding Naming in {settings_file}\", \"error\")\n",
        "        pass\n",
        "    return versification\n",
        "\n",
        "\n",
        "def modify_versification(settings_file, versification_code):\n",
        "    try:\n",
        "        tree = ET.parse(settings_file)\n",
        "        versification = tree.find('.//Versification')\n",
        "        versification.text = versification_code\n",
        "        tree.write(settings_file)\n",
        "    except FileNotFoundError:\n",
        "        log_and_print(f\"could not find file {settings_file}\", \"error\")\n",
        "    except IndexError:\n",
        "        log_and_print(f\"IndexError finding Naming in {settings_file}\", \"error\")\n",
        "        pass\n",
        "\n",
        "\n",
        "def copy_paratext_versification_info(matching_projects):\n",
        "\n",
        "    log_and_print(f\"copying paratext versification information for matching projects...\")\n",
        "    for (eBible_project, paratext_project) in matching_projects:\n",
        "        settings_file = paratext_projects / paratext_project / \"Settings.xml\"\n",
        "        custom_vrs = paratext_projects / paratext_project / \"custom.vrs\"\n",
        "        if settings_file.exists():\n",
        "            versification = get_versification_from_settings_file(settings_file)\n",
        "            if versification and versification != \"4\":\n",
        "                log_and_print(f\"copying versification {versification} from Paratext for project {eBible_project}\")\n",
        "                modify_versification(ebible_redistributable / eBible_project / \"Settings.xml\", versification)\n",
        "        if custom_vrs.exists():\n",
        "            log_and_print(f\"copying custom versification file from Paratext for project {eBible_project}\")\n",
        "            shutil.copy(custom_vrs, ebible_redistributable / eBible_project)\n",
        "\n",
        "\n",
        "def get_redistributable_projects():\n",
        "\n",
        "    ok_copyrights = [\"by-nc-nd\", \"by-nd\", \"by-sa\"]\n",
        "    redistributable = {}\n",
        "    translations_info = pd.read_csv(ebible_translations_csv)\n",
        "    copyright_info = pd.read_csv(ebible_copyright_csv)\n",
        "    improve_column_names(translations_info)\n",
        "    improve_column_names(copyright_info)\n",
        "    copyright_info.rename(columns={'id': 'translationid'}, inplace=True)\n",
        "    combined = pd.merge(translations_info, copyright_info, on='translationid', how='left')\n",
        "\n",
        "    for index, row in combined.iterrows():\n",
        "        if row[\"redistributable\"] and (row[\"licence_type\"] in ok_copyrights or row[\"copyright_holder\"] == \"Public Domain\"):\n",
        "            redistributable[row[\"translationid\"]] = row[\"languagecode\"]\n",
        "\n",
        "    return redistributable\n",
        "\n",
        "def copy_to_working_directory(project, language_code):\n",
        "    folder = ebible_redistributable / project.name\n",
        "    if exists(folder):\n",
        "      if rewrite:\n",
        "        shutil.rmtree(folder)\n",
        "      else:\n",
        "        return\n",
        "    log_and_print(f\"copying {project.name} to {ebible_redistributable}\")\n",
        "    shutil.copytree(project, folder)\n",
        "    add_settings_file(folder, language_code)\n"
      ]
    },
    {
      "cell_type": "markdown",
      "metadata": {
        "id": "8oQDn6UjoYw1"
      },
      "source": [
        "# Prepare redistributable projects to be extracted. "
      ]
    },
    {
      "cell_type": "code",
      "execution_count": 20,
      "metadata": {
        "id": "RJxJjQnsvx_z",
        "colab": {
          "base_uri": "https://localhost:8080/"
        },
        "outputId": "7ce026bd-a86a-4a1a-ac25-963fcf3a79c8"
      },
      "outputs": [
        {
          "output_type": "stream",
          "name": "stdout",
          "text": [
            "copying bjvNT to /content/drive/MyDrive/eBible/redistributable/projects\n",
            "copying paratext versification information for matching projects...\n",
            "Number of eBible projects: 2\n",
            "Number of redistributable eBible projects: 1\n",
            "Number of eBible projects to be extracted: 1\n",
            "Files extracted to /content/drive/MyDrive/eBible/redistributable/projects\n"
          ]
        }
      ],
      "source": [
        "log_file = open(ebible_redistributable / f\"../run_{date.today()}.log\", \"a\")\n",
        "\n",
        "# Create target directory if it doesn't exist already\n",
        "makedirs(ebible_redistributable, exist_ok=True)\n",
        "\n",
        "# Make dictionary of copyright free projects in eBible.\n",
        "redistributable = get_redistributable_projects()\n",
        "\n",
        "# Copy redistributable eBible projects into working directory, and add settings files\n",
        "for project in ebible_projects.iterdir():\n",
        "    if project.name in redistributable:\n",
        "        copy_to_working_directory(project, redistributable[project.name])\n",
        "\n",
        "# Modify versification in settings file if found in matching Paratext project,\n",
        "# and copy custom versification file from matching Paratext project if found.\n",
        "copy_paratext_versification_info(get_matching_paratext_projects())\n",
        "\n",
        "log_and_print(f\"Number of eBible projects: {len([item for item in listdir(ebible_projects)])}\")\n",
        "log_and_print(f\"Number of redistributable eBible projects: {len(redistributable)}\")\n",
        "log_and_print(f\"Number of eBible projects to be extracted: {len([item for item in listdir(ebible_redistributable)])}\")\n",
        "log_and_print(f\"Files extracted to {ebible_redistributable}\")\n",
        "log_file.close()\n"
      ]
    },
    {
      "cell_type": "markdown",
      "source": [
        "# Extract projects"
      ],
      "metadata": {
        "id": "fYcGRtGB1eRu"
      }
    },
    {
      "cell_type": "code",
      "metadata": {
        "id": "zoR0briHQMxU",
        "colab": {
          "base_uri": "https://localhost:8080/"
        },
        "outputId": "48aa4985-0653-4f13-b869-a498404da8ac"
      },
      "source": [
        "log_file = open(ebible_extractions / f\"../run_{date.today()}.log\", \"a\")\n",
        "\n",
        "# Tell the SIL NLP tools where to find the resources\n",
        "environ['SIL_NLP_DATA_PATH'] = base\n",
        "\n",
        "# Tell Python where to find our repo\n",
        "environ['PYTHONPATH'] = \"/env/python:/content/silnlp\"\n",
        "\n",
        "i = 0\n",
        "for project in ebible_redistributable.glob(\"*\"):\n",
        "  if not (ebible_extractions / project).exists or rewrite:\n",
        "    !python -m silnlp.common.extract_corpora \"{project}\"\n",
        "    i += 1\n",
        "\n",
        "log_and_print(f\"{i} eBible projects extracted.\")\n",
        "log_file.close()"
      ],
      "execution_count": 21,
      "outputs": [
        {
          "output_type": "stream",
          "name": "stdout",
          "text": [
            "2022-10-17 13:05:57,522 - silnlp.common.environment - INFO - Using workspace: /content/drive/MyDrive/eBible/ as per environment variable SIL_NLP_DATA_PATH.\n",
            "2022-10-17 13:05:57,545 - silnlp.common.extract_corpora - INFO - Extracting /content/drive/MyDrive/eBible/redistributable/projects/bjvNT...\n",
            "2022-10-17 13:06:02,617 - silnlp.common.extract_corpora - INFO - # of Verses: 41899\n",
            "2022-10-17 13:06:02,618 - silnlp.common.extract_corpora - INFO - # of Terms: 0\n",
            "2022-10-17 13:06:02,618 - silnlp.common.extract_corpora - INFO - Done.\n",
            "1 eBible projects extracted.\n"
          ]
        }
      ]
    }
  ],
  "metadata": {
    "accelerator": "GPU",
    "colab": {
      "collapsed_sections": [],
      "provenance": [],
      "include_colab_link": true
    },
    "kernelspec": {
      "display_name": "Python 3",
      "name": "python3"
    }
  },
  "nbformat": 4,
  "nbformat_minor": 0
}