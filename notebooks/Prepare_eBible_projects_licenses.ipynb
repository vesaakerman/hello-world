{
  "cells": [
    {
      "cell_type": "markdown",
      "metadata": {
        "id": "view-in-github",
        "colab_type": "text"
      },
      "source": [
        "<a href=\"https://colab.research.google.com/github/vesaakerman/hello-world/blob/master/notebooks/Prepare_eBible_projects_licenses.ipynb\" target=\"_parent\"><img src=\"https://colab.research.google.com/assets/colab-badge.svg\" alt=\"Open In Colab\"/></a>"
      ]
    },
    {
      "cell_type": "code",
      "execution_count": 1,
      "metadata": {
        "colab": {
          "base_uri": "https://localhost:8080/"
        },
        "id": "_8dvXZnMNniY",
        "outputId": "03de2a08-4649-47fb-8905-6c958c66445c"
      },
      "outputs": [
        {
          "output_type": "stream",
          "name": "stdout",
          "text": [
            "Mounted at /content/drive\n"
          ]
        }
      ],
      "source": [
        "from google.colab import drive\n",
        "drive.mount('/content/drive')"
      ]
    },
    {
      "cell_type": "markdown",
      "source": [
        "# Define base folder"
      ],
      "metadata": {
        "id": "awnVICVNmGVf"
      }
    },
    {
      "cell_type": "code",
      "source": [
        "base = \"/content/drive/MyDrive/eBible\""
      ],
      "metadata": {
        "id": "V-dpuImLmX4J"
      },
      "execution_count": null,
      "outputs": []
    },
    {
      "cell_type": "markdown",
      "metadata": {
        "id": "j6Az2jLOoHPa"
      },
      "source": [
        "# Import modules and define directory paths"
      ]
    },
    {
      "cell_type": "code",
      "execution_count": null,
      "metadata": {
        "colab": {
          "base_uri": "https://localhost:8080/"
        },
        "id": "JsAEZs5WoPbv",
        "outputId": "16fd4f4e-2973-406d-eb19-6aff037ca89d"
      },
      "outputs": [
        {
          "output_type": "stream",
          "name": "stdout",
          "text": [
            "/content/drive/MyDrive/eBible_projects\n",
            "/content/drive/MyDrive/eBible_metadata/copyrights.csv\n"
          ]
        }
      ],
      "source": [
        "from glob import iglob\n",
        "from bs4 import BeautifulSoup\n",
        "from csv import DictWriter\n",
        "import ntpath\n",
        "from pathlib import Path\n",
        "import regex\n",
        "import requests\n",
        "\n",
        "ebible_folder = base + \"eBible_projects\"\n",
        "copyright_file = base + \"eBible_metadata/copyrights.csv\"\n",
        "\n",
        "print(ebible_folder)\n",
        "print(copyright_file)\n"
      ]
    },
    {
      "cell_type": "markdown",
      "metadata": {
        "id": "lMdkvOPbzdMg"
      },
      "source": [
        "# Define methods"
      ]
    },
    {
      "cell_type": "code",
      "execution_count": null,
      "metadata": {
        "id": "mHI0bcJYz6ID"
      },
      "outputs": [],
      "source": [
        "def path_leaf(path):\n",
        "    head, tail = ntpath.split(path)\n",
        "    return tail or ntpath.basename(head)\n",
        "\n",
        "\n",
        "def read_list_from_file(f_in):\n",
        "    lines = list()\n",
        "    with open(f_in, \"r\", encoding=\"utf-8\") as infile:\n",
        "        for line in infile.read().splitlines():\n",
        "            lines.append(line)\n",
        "    return lines\n",
        "\n",
        "\n",
        "def get_copyright_from_url(url):\n",
        "    r = requests.get(url)\n",
        "    # If the status is OK continue\n",
        "    if r.status_code == requests.codes.ok:\n",
        "        soup = BeautifulSoup(r.content, \"lxml\")\n",
        "        cr_item = soup.find(\"td\", colspan=\"3\")\n",
        "        return cr_item.string\n",
        "    else:\n",
        "        return None\n"
      ]
    },
    {
      "cell_type": "markdown",
      "metadata": {
        "id": "8oQDn6UjoYw1"
      },
      "source": [
        "# Get copyright info from eBible projects "
      ]
    },
    {
      "cell_type": "code",
      "execution_count": null,
      "metadata": {
        "colab": {
          "base_uri": "https://localhost:8080/"
        },
        "id": "4oY1Ysbut741",
        "outputId": "589b187d-fd06-4a7f-9dd4-1740289a7d83"
      },
      "outputs": [
        {
          "output_type": "stream",
          "name": "stdout",
          "text": [
            "Collecting eBible copyright information...\n",
            "/content/drive/MyDrive/eBible_projects/aak/copr.htm\n",
            "/content/drive/MyDrive/eBible_projects/aau/copr.htm\n",
            "/content/drive/MyDrive/eBible_projects/aaz/copr.htm\n",
            "Wrote copyright info to /content/drive/MyDrive/eBible_metadata/copyrights.csv\n"
          ]
        }
      ],
      "source": [
        "data = list()\n",
        "copr_regex = r\".*/(?P<id>.*?)/copr.htm\"\n",
        "\n",
        "# Check we can write to the output file before the processing:\n",
        "with open(copyright_file, 'w',encoding='utf-8') as f_out:\n",
        "    pass\n",
        "\n",
        "print(\"Collecting eBible copyright information...\")\n",
        "for copyright_info_file in sorted(iglob(ebible_folder + \"/**/copr.htm\")):\n",
        "    print(copyright_info_file)\n",
        "\n",
        "    id_match = regex.match(copr_regex, str(copyright_info_file))\n",
        "    id = id_match[\"id\"]\n",
        "\n",
        "    entry = dict()\n",
        "    entry[\"ID\"] = str(id)\n",
        "    entry[\"File\"] = copyright_info_file\n",
        "\n",
        "    with open(copyright_info_file, \"r\", encoding=\"utf-8\") as copr:\n",
        "        html = copr.read()\n",
        "        soup = BeautifulSoup(html, \"lxml\")\n",
        "\n",
        "    cclink = soup.find(href=regex.compile(\"creativecommons\"))\n",
        "    if cclink:\n",
        "        ref = cclink.get(\"href\")\n",
        "        if ref:\n",
        "            entry[\"CC Licence Link\"] = ref\n",
        "            cc_match = regex.match(\n",
        "                r\".*?/licenses/(?P<type>.*?)/(?P<version>.*)/\", ref\n",
        "            )\n",
        "            if cc_match:\n",
        "                entry[\"Licence Type\"] = cc_match[\"type\"]\n",
        "                entry[\"Licence Version\"] = cc_match[\"version\"]\n",
        "            else:\n",
        "                cc_by_match = regex.match(r\".*?/licenses/by(?P<version>.*)/\", ref)\n",
        "                if cc_by_match:\n",
        "                    # print(f'Licence version = {cc_by_match[\"version\"]}')\n",
        "                    entry[\"Licence Type\"] = \"by\"\n",
        "                    entry[\"Licence Version\"] = cc_by_match[\"version\"]\n",
        "\n",
        "    cclink = None\n",
        "\n",
        "    titlelink = soup.find(href=regex.compile(f\"https://ebible.org/{id}\"))\n",
        "    if titlelink:\n",
        "        entry[\"Vernacular Title\"] = titlelink.string\n",
        "    titlelink = None\n",
        "\n",
        "    copy_strings = [s for s in soup.body.p.stripped_strings]\n",
        "    \n",
        "    \n",
        "    for i, copy_string in enumerate(copy_strings):\n",
        "        if i == 0 and \"copyright ©\" in copy_string:\n",
        "            entry[\"Copyright Years\"] = copy_string\n",
        "            entry[\"Copyright Holder\"] = copy_strings[i + 1]\n",
        "        if i > 0 and \"Language:\" in copy_string:\n",
        "            entry[\"Language\"] = copy_strings[i + 1]\n",
        "        if \"Dialect\" in copy_string:\n",
        "            entry[\"Dialect\"] = copy_string\n",
        "        if \"Translation by\" in copy_string:\n",
        "            entry[\"Translation by\"] = copy_string\n",
        "        if \"Public Domain\" in copy_string:\n",
        "            entry[\"Copyright Year\"] = \"\"\n",
        "            entry[\"Copyright Holder\"] = \"Public Domain\"\n",
        "    \n",
        "    data.append(entry)\n",
        "\n",
        "    headers = [\n",
        "        \"ID\",\n",
        "        \"File\",\n",
        "        \"Language\",\n",
        "        \"Dialect\",\n",
        "        \"Licence Type\",\n",
        "        \"Licence Version\",\n",
        "        \"CC Licence Link\",\n",
        "        \"Copyright Holder\",\n",
        "        \"Copyright Years\",\n",
        "        \"Translation by\",\n",
        "        # \"Copyright from URL\",\n",
        "    ]\n",
        "\n",
        "    with open(copyright_file, \"w\", encoding=\"utf-8\") as csv_out:\n",
        "        writer = DictWriter(\n",
        "            csv_out, headers, restval=\"\", extrasaction=\"ignore\", dialect=\"excel\"\n",
        "        )\n",
        "        writer.writeheader()\n",
        "        writer.writerows(data)\n",
        "\n",
        "print(f\"Wrote copyright info to {copyright_file}\")\n",
        "\n",
        "\n"
      ]
    }
  ],
  "metadata": {
    "colab": {
      "collapsed_sections": [],
      "provenance": [],
      "include_colab_link": true
    },
    "gpuClass": "standard",
    "kernelspec": {
      "display_name": "Python 3",
      "name": "python3"
    }
  },
  "nbformat": 4,
  "nbformat_minor": 0
}