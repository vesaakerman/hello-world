{
  "nbformat": 4,
  "nbformat_minor": 0,
  "metadata": {
    "colab": {
      "provenance": [],
      "collapsed_sections": [],
      "include_colab_link": true
    },
    "kernelspec": {
      "display_name": "Python 3",
      "name": "python3"
    },
    "accelerator": "GPU"
  },
  "cells": [
    {
      "cell_type": "markdown",
      "metadata": {
        "id": "view-in-github",
        "colab_type": "text"
      },
      "source": [
        "<a href=\"https://colab.research.google.com/github/vesaakerman/hello-world/blob/master/notebooks/silnlp_extractions.ipynb\" target=\"_parent\"><img src=\"https://colab.research.google.com/assets/colab-badge.svg\" alt=\"Open In Colab\"/></a>"
      ]
    },
    {
      "cell_type": "code",
      "metadata": {
        "colab": {
          "base_uri": "https://localhost:8080/"
        },
        "id": "_8dvXZnMNniY",
        "outputId": "1a9ef17f-47c6-4b6a-f9eb-923a3a86bf7c"
      },
      "source": [
        "from google.colab import drive\n",
        "drive.mount('/content/drive')"
      ],
      "execution_count": 8,
      "outputs": [
        {
          "output_type": "stream",
          "name": "stdout",
          "text": [
            "Drive already mounted at /content/drive; to attempt to forcibly remount, call drive.mount(\"/content/drive\", force_remount=True).\n"
          ]
        }
      ]
    },
    {
      "cell_type": "markdown",
      "source": [
        "# Define base folder"
      ],
      "metadata": {
        "id": "awnVICVNmGVf"
      }
    },
    {
      "cell_type": "code",
      "source": [
        "base = \"/content/drive/MyDrive/eBible/\""
      ],
      "metadata": {
        "id": "V-dpuImLmX4J"
      },
      "execution_count": 15,
      "outputs": []
    },
    {
      "cell_type": "markdown",
      "source": [
        "# Install needed resources"
      ],
      "metadata": {
        "id": "WY-MY_4G1ou0"
      }
    },
    {
      "cell_type": "code",
      "metadata": {
        "id": "Q0lZMDhMJVHC"
      },
      "source": [
        "# Install .NET\n",
        "! wget -q https://packages.microsoft.com/config/ubuntu/18.04/packages-microsoft-prod.deb -O packages-microsoft-prod.deb\n",
        "! dpkg -i packages-microsoft-prod.deb\n",
        "! add-apt-repository universe\n",
        "! apt-get update\n",
        "! apt-get install apt-transport-https\n",
        "! apt-get update\n",
        "! apt-get install dotnet-sdk-3.1"
      ],
      "execution_count": null,
      "outputs": []
    },
    {
      "cell_type": "code",
      "metadata": {
        "id": "nOAaBNHhseqc"
      },
      "source": [
        "#\n",
        "# Install SentencePiece, OpenNMT-tf, Boto3 and s3path\n",
        "# and clone the silnlp repository\n",
        "#\n",
        "\n",
        "!pip install tensorflow==2.4.1\n",
        "!pip install sentencepiece\n",
        "!git clone https://github.com/OpenNMT/OpenNMT-tf\n",
        "!pip install OpenNMT-tf\n",
        "\n",
        "!pip install python-dotenv\n",
        "!pip install sil-machine\n",
        "\n",
        "!pip install boto3\n",
        "!pip install s3path\n",
        "!pip install requests\n",
        "\n",
        "# Clone the silnlp repo\n",
        "!git clone https://github.com/sillsdev/silnlp"
      ],
      "execution_count": null,
      "outputs": []
    },
    {
      "cell_type": "markdown",
      "source": [
        "# Extract Bible texts"
      ],
      "metadata": {
        "id": "fYcGRtGB1eRu"
      }
    },
    {
      "cell_type": "code",
      "metadata": {
        "id": "zoR0briHQMxU",
        "colab": {
          "base_uri": "https://localhost:8080/"
        },
        "outputId": "4e5ce638-cf4e-46bc-c028-52ca1c89c457"
      },
      "source": [
        "import os\n",
        "from pathlib import Path\n",
        "\n",
        "# Tell the SIL NLP tools where to find the resources\n",
        "os.environ['SIL_NLP_DATA_PATH'] = base\n",
        "\n",
        "# Tell Python where to find our repo\n",
        "os.environ['PYTHONPATH'] = \"/env/python:/content/silnlp\"\n",
        "\n",
        "projects = Path(base + \"eBible_redistributable/projects\")\n",
        "for project in projects.glob(\"*\"):\n",
        "  !python -m silnlp.common.extract_corpora \"{project}\"\n"
      ],
      "execution_count": 16,
      "outputs": [
        {
          "output_type": "stream",
          "name": "stdout",
          "text": [
            "2022-10-10 09:06:15,328 - silnlp.common.environment - INFO - Using workspace: /content/drive/MyDrive/eBible/ as per environment variable SIL_NLP_DATA_PATH.\n",
            "2022-10-10 09:06:15,409 - silnlp.common.extract_corpora - INFO - Extracting /content/drive/MyDrive/eBible/eBible_redistributable/projects/aau...\n",
            "2022-10-10 09:06:48,568 - silnlp.common.extract_corpora - INFO - # of Verses: 41899\n",
            "2022-10-10 09:06:48,570 - silnlp.common.extract_corpora - INFO - # of Terms: 0\n",
            "2022-10-10 09:06:48,570 - silnlp.common.extract_corpora - INFO - Done.\n",
            "2022-10-10 09:06:49,953 - silnlp.common.environment - INFO - Using workspace: /content/drive/MyDrive/eBible/ as per environment variable SIL_NLP_DATA_PATH.\n",
            "2022-10-10 09:06:49,974 - silnlp.common.extract_corpora - INFO - Extracting /content/drive/MyDrive/eBible/eBible_redistributable/projects/aak...\n",
            "2022-10-10 09:07:21,197 - silnlp.common.extract_corpora - INFO - # of Verses: 41899\n",
            "2022-10-10 09:07:21,199 - silnlp.common.extract_corpora - INFO - # of Terms: 0\n",
            "2022-10-10 09:07:21,199 - silnlp.common.extract_corpora - INFO - Done.\n",
            "2022-10-10 09:07:22,537 - silnlp.common.environment - INFO - Using workspace: /content/drive/MyDrive/eBible/ as per environment variable SIL_NLP_DATA_PATH.\n",
            "2022-10-10 09:07:22,560 - silnlp.common.extract_corpora - INFO - Extracting /content/drive/MyDrive/eBible/eBible_redistributable/projects/aaz...\n",
            "2022-10-10 09:07:56,980 - silnlp.common.extract_corpora - INFO - # of Verses: 41899\n",
            "2022-10-10 09:07:56,981 - silnlp.common.extract_corpora - INFO - # of Terms: 0\n",
            "2022-10-10 09:07:56,981 - silnlp.common.extract_corpora - INFO - Done.\n"
          ]
        }
      ]
    }
  ]
}