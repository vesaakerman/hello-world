{
  "nbformat": 4,
  "nbformat_minor": 0,
  "metadata": {
    "colab": {
      "provenance": [],
      "collapsed_sections": [],
      "include_colab_link": true
    },
    "kernelspec": {
      "display_name": "Python 3",
      "name": "python3"
    },
    "accelerator": "GPU"
  },
  "cells": [
    {
      "cell_type": "markdown",
      "metadata": {
        "id": "view-in-github",
        "colab_type": "text"
      },
      "source": [
        "<a href=\"https://colab.research.google.com/github/vesaakerman/hello-world/blob/master/notebooks/silnlp_extractions.ipynb\" target=\"_parent\"><img src=\"https://colab.research.google.com/assets/colab-badge.svg\" alt=\"Open In Colab\"/></a>"
      ]
    },
    {
      "cell_type": "code",
      "metadata": {
        "colab": {
          "base_uri": "https://localhost:8080/"
        },
        "id": "_8dvXZnMNniY",
        "outputId": "13be1fc2-a08e-41d9-bbd3-d6029a72fa2b"
      },
      "source": [
        "from google.colab import drive\n",
        "drive.mount('/content/drive')"
      ],
      "execution_count": null,
      "outputs": [
        {
          "output_type": "stream",
          "name": "stdout",
          "text": [
            "Mounted at /content/drive\n"
          ]
        }
      ]
    },
    {
      "cell_type": "markdown",
      "source": [
        "# Define base folder"
      ],
      "metadata": {
        "id": "awnVICVNmGVf"
      }
    },
    {
      "cell_type": "code",
      "source": [
        "base = \"/content/drive/MyDrive/\""
      ],
      "metadata": {
        "id": "V-dpuImLmX4J"
      },
      "execution_count": null,
      "outputs": []
    },
    {
      "cell_type": "markdown",
      "source": [
        "# Install needed resources"
      ],
      "metadata": {
        "id": "WY-MY_4G1ou0"
      }
    },
    {
      "cell_type": "code",
      "metadata": {
        "id": "Q0lZMDhMJVHC"
      },
      "source": [
        "# Install .NET\n",
        "! wget -q https://packages.microsoft.com/config/ubuntu/18.04/packages-microsoft-prod.deb -O packages-microsoft-prod.deb\n",
        "! dpkg -i packages-microsoft-prod.deb\n",
        "! add-apt-repository universe\n",
        "! apt-get update\n",
        "! apt-get install apt-transport-https\n",
        "! apt-get update\n",
        "! apt-get install dotnet-sdk-3.1"
      ],
      "execution_count": null,
      "outputs": []
    },
    {
      "cell_type": "code",
      "metadata": {
        "id": "nOAaBNHhseqc"
      },
      "source": [
        "#\n",
        "# Install SentencePiece, OpenNMT-tf, Boto3 and s3path\n",
        "# and clone the silnlp repository\n",
        "#\n",
        "\n",
        "!pip install tensorflow==2.4.1\n",
        "!pip install sentencepiece\n",
        "!git clone https://github.com/OpenNMT/OpenNMT-tf\n",
        "!pip install OpenNMT-tf\n",
        "\n",
        "!pip install python-dotenv\n",
        "!pip install sil-machine\n",
        "\n",
        "!pip install boto3\n",
        "!pip install s3path\n",
        "!pip install requests\n",
        "\n",
        "# Clone the silnlp repo\n",
        "!git clone https://github.com/sillsdev/silnlp"
      ],
      "execution_count": null,
      "outputs": []
    },
    {
      "cell_type": "markdown",
      "source": [
        "# Extract Bible texts"
      ],
      "metadata": {
        "id": "fYcGRtGB1eRu"
      }
    },
    {
      "cell_type": "code",
      "metadata": {
        "id": "zoR0briHQMxU",
        "colab": {
          "base_uri": "https://localhost:8080/"
        },
        "outputId": "60303814-6efa-4818-ff8f-0399f4207dcc"
      },
      "source": [
        "import os\n",
        "from pathlib import Path\n",
        "\n",
        "# Tell the SIL NLP tools where to find the resources\n",
        "os.environ['SIL_NLP_DATA_PATH'] = base\n",
        "\n",
        "# Tell Python where to find our repo\n",
        "os.environ['PYTHONPATH'] = \"/env/python:/content/silnlp\"\n",
        "\n",
        "projects = Path(base + \"eBible_redistributable/projects\")\n",
        "for project in projects.glob(\"*\"):\n",
        "  !python -m silnlp.common.extract_corpora \"{project}\"\n"
      ],
      "execution_count": null,
      "outputs": [
        {
          "output_type": "stream",
          "name": "stdout",
          "text": [
            "2022-10-06 12:57:13,806 - silnlp.common.environment - INFO - Using workspace: /content/drive/MyDrive/ as per environment variable SIL_NLP_DATA_PATH.\n",
            "2022-10-06 12:57:13,896 - silnlp.common.extract_corpora - INFO - Extracting /content/drive/MyDrive/eBible_redistributable/projects/aak...\n",
            "2022-10-06 12:57:44,808 - silnlp.common.extract_corpora - INFO - # of Verses: 41899\n",
            "2022-10-06 12:57:44,808 - silnlp.common.extract_corpora - INFO - # of Terms: 0\n",
            "2022-10-06 12:57:44,808 - silnlp.common.extract_corpora - INFO - Done.\n",
            "2022-10-06 12:57:46,128 - silnlp.common.environment - INFO - Using workspace: /content/drive/MyDrive/ as per environment variable SIL_NLP_DATA_PATH.\n",
            "2022-10-06 12:57:46,150 - silnlp.common.extract_corpora - INFO - Extracting /content/drive/MyDrive/eBible_redistributable/projects/aau...\n",
            "2022-10-06 12:58:15,116 - silnlp.common.extract_corpora - INFO - # of Verses: 41899\n",
            "2022-10-06 12:58:15,117 - silnlp.common.extract_corpora - INFO - # of Terms: 0\n",
            "2022-10-06 12:58:15,117 - silnlp.common.extract_corpora - INFO - Done.\n",
            "2022-10-06 12:58:16,470 - silnlp.common.environment - INFO - Using workspace: /content/drive/MyDrive/ as per environment variable SIL_NLP_DATA_PATH.\n",
            "2022-10-06 12:58:16,491 - silnlp.common.extract_corpora - INFO - Extracting /content/drive/MyDrive/eBible_redistributable/projects/aaz...\n",
            "2022-10-06 12:58:43,604 - silnlp.common.extract_corpora - INFO - # of Verses: 41899\n",
            "2022-10-06 12:58:43,606 - silnlp.common.extract_corpora - INFO - # of Terms: 0\n",
            "2022-10-06 12:58:43,606 - silnlp.common.extract_corpora - INFO - Done.\n"
          ]
        }
      ]
    }
  ]
}