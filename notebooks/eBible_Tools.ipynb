{
  "cells": [
    {
      "cell_type": "markdown",
      "metadata": {
        "id": "view-in-github",
        "colab_type": "text"
      },
      "source": [
        "<a href=\"https://colab.research.google.com/github/vesaakerman/hello-world/blob/master/notebooks/eBible_Tools.ipynb\" target=\"_parent\"><img src=\"https://colab.research.google.com/assets/colab-badge.svg\" alt=\"Open In Colab\"/></a>"
      ]
    },
    {
      "cell_type": "code",
      "execution_count": 1,
      "metadata": {
        "colab": {
          "base_uri": "https://localhost:8080/"
        },
        "id": "_8dvXZnMNniY",
        "outputId": "8930c870-1efa-410b-a77a-11d08bf69636"
      },
      "outputs": [
        {
          "output_type": "stream",
          "name": "stdout",
          "text": [
            "Mounted at /content/drive\n"
          ]
        }
      ],
      "source": [
        "from google.colab import drive\n",
        "drive.mount('/content/drive')"
      ]
    },
    {
      "cell_type": "markdown",
      "metadata": {
        "id": "vP0Kifqb8Hko"
      },
      "source": [
        "# List number of different versifications in Paratext projects & number of custom versifications"
      ]
    },
    {
      "cell_type": "code",
      "execution_count": null,
      "metadata": {
        "id": "Nnj1U_V3ln0n"
      },
      "outputs": [],
      "source": [
        "from pathlib import Path\n",
        "import xml.etree.ElementTree as ET\n",
        "\n",
        "pfolder = Path(\"/content/drive/Shareddrives/Partnership for Applied Biblical NLP/Data/Corpora/Paratext_projects\")\n",
        "\n",
        "def get_versification_from_settings_file(settings_file):\n",
        "    versification = None\n",
        "    try:\n",
        "        tree = ET.parse(settings_file)\n",
        "        versification_elem = tree.find('.//Versification')\n",
        "        try:\n",
        "            versification = versification_elem.text\n",
        "        except:\n",
        "            pass\n",
        "    except FileNotFoundError:\n",
        "        print(f\"      could not find file {settings_file}\")\n",
        "    except IndexError:\n",
        "        print(f\"      IndexError finding Versification in {settings_file}\")\n",
        "        pass\n",
        "    return versification\n",
        "\n",
        "\n",
        "def custom_versification_file_exists(project):\n",
        "    custom = project  / \"custom.vrs\"\n",
        "    return custom.exists()\n",
        "\n",
        "\n",
        "def get_versifications(dir):\n",
        "    amounts = {\"1\": 0, \"2\": 0, \"3\": 0, \"4\": 0, \"5\": 0, \"6\": 0, \"None\": 0, \"1cu\": 0, \"2cu\": 0, \"3cu\": 0, \"4cu\": 0, \"5cu\": 0, \"6cu\": 0, \"Nonecu\": 0}\n",
        "    for project in dir.iterdir():\n",
        "        settings_file = project / \"Settings.xml\"\n",
        "        versification = get_versification_from_settings_file(settings_file)\n",
        "        if not versification:\n",
        "            versification = \"None\"\n",
        "        amounts[versification] += 1\n",
        "        if custom_versification_file_exists(project):\n",
        "            amounts[versification + \"cu\"] += 1\n",
        "        \n",
        "\n",
        "    print(f\"\\nVersification 1: {amounts['1']},  of which {amounts['1cu']} has custom versification file\")\n",
        "    print(f\"Versification 2: {amounts['2']},    of which {amounts['2cu']}   has custom versification file\")\n",
        "    print(f\"Versification 3: {amounts['3']},   of which {amounts['3cu']}   has custom versification file\")\n",
        "    print(f\"Versification 4: {amounts['4']}, of which {amounts['4cu']} has custom versification file\")\n",
        "    print(f\"Versification 5: {amounts['5']},   of which {amounts['5cu']}  has custom versification file\")\n",
        "    print(f\"Versification 6: {amounts['6']},   of which {amounts['6cu']}  has custom versification file\")\n",
        "    print(f\"Versific. None : {amounts['None']},   of which {amounts['Nonecu']}  has custom versification file\")\n",
        "\n",
        "\n",
        "get_versifications(pfolder)\n"
      ]
    },
    {
      "cell_type": "markdown",
      "source": [
        "# Conclude versification based on versification of Daniel"
      ],
      "metadata": {
        "id": "jheq9UQbiDUx"
      }
    },
    {
      "cell_type": "code",
      "source": [
        "from glob import iglob\n",
        "import re\n",
        "from os.path import exists\n",
        "from pathlib import Path\n",
        "import csv\n",
        "\n",
        "paratext_projects = \"/content/drive/Shareddrives/Partnership for Applied Biblical NLP/Data/Corpora/Paratext_projects/\"\n",
        "output = Path(\"/content/drive/MyDrive/versification/\")\n",
        "headers = ['CONCLUDED', 'PARATEXT', 'CUSTOM', 'PROJECT', 'REMARK', '', 'CONCLUSION']\n",
        "\n",
        "\n",
        "def conclude_versification(last_verses_ch_3_5,last_verse_ch_13):\n",
        "    if last_verses_ch_3_5 == \"3:30 5:31\":\n",
        "        versification = \"4\"  # English\n",
        "    elif last_verses_ch_3_5 == \"3:33 5:30\":\n",
        "        versification = \"1\"  # Original\n",
        "    elif last_verses_ch_3_5 == \"3:33 5:31\":\n",
        "        versification = \"5\"  # Russian Protestant\n",
        "    elif last_verses_ch_3_5 == \"3:100 5:31\":\n",
        "        if last_verse_ch_13 == 65:\n",
        "            versification = \"2?\"  # Vulgate\n",
        "        else:\n",
        "            versification = \"3\"  # Russian Orthodox\n",
        "    else:\n",
        "        versification = \"\"\n",
        "\n",
        "    return versification\n",
        "\n",
        "\n",
        "def get_paratext_versification(daniel):\n",
        "    m = re.search(r\".*/(.*)/.*\", daniel)\n",
        "    if m:\n",
        "        project = m.group(1)\n",
        "        settings = paratext_projects + project + \"/Settings.xml\"\n",
        "        pt_versification = \"\"\n",
        "        if exists(settings):\n",
        "            try:\n",
        "                f = open(settings, \"r\")\n",
        "                for line in f:\n",
        "                    m = re.search(r\"<Versification>(\\d)</Versification>.*\", line)\n",
        "                    if m:\n",
        "                        pt_versification = m.group(1)\n",
        "            except Exception as e:\n",
        "                print(f\"Could not open {settings}, reason:  {e}\")\n",
        "\n",
        "        return pt_versification, project\n",
        "\n",
        "\n",
        "def get_custom_versification(project):\n",
        "    custom = paratext_projects + project + \"/custom.vrs\"\n",
        "    if exists(custom):\n",
        "        try:\n",
        "            f = open(custom, \"r\")\n",
        "            for line in f:\n",
        "                m = re.search(r\"DAN.*(3:\\d*).*(5:\\d*).*\", line)\n",
        "                if m:\n",
        "                    last_verses_ch_3_5 = f\"{m.group(1)} {m.group(2)}\"\n",
        "                    return conclude_versification(last_verses_ch_3_5, 0)\n",
        "        except Exception as e:\n",
        "            print(f\"Could not open {custom}, reason:  {e}\")\n",
        "\n",
        "    return \"\"\n",
        "\n",
        "\n",
        "def get_star(versification, pt_versification, custom_versification):\n",
        "    star = \"\"\n",
        "    if custom_versification != \"\":\n",
        "        if versification != custom_versification:\n",
        "            star = \"*\"\n",
        "    else:\n",
        "        if versification != pt_versification:\n",
        "            star = \"*\"\n",
        "\n",
        "    return star\n",
        "\n",
        "\n",
        "def get_conclusion(versification, custom_versification, last_verses_ch_3_5):\n",
        "\n",
        "    if versification != \"\":\n",
        "        return versification\n",
        "    elif last_verses_ch_3_5.startswith(\"3:100\"):\n",
        "        return \"3\"  # Russian Orthodox\n",
        "    else:\n",
        "        return \"4\" # English\n",
        "\n",
        "\n",
        "def get_versifications(code):\n",
        "\n",
        "    with open(output / 'versifications.csv', 'w', encoding='UTF8', newline='') as csv_file:\n",
        "        writer = csv.DictWriter(csv_file, fieldnames=headers)\n",
        "        writer.writeheader()\n",
        "\n",
        "        for daniel in sorted(iglob(paratext_projects + f\"**/*{code}*\")):\n",
        "            try:\n",
        "                f = open(daniel, \"r\")\n",
        "            except Exception as e:\n",
        "                print(f\"Could not open {daniel}, reason:  {e}\")\n",
        "                continue\n",
        "\n",
        "            last_verse = 0\n",
        "            last_verse_ch_13 = 0\n",
        "            last_verses_ch_3_5 = \"\"\n",
        "            try:\n",
        "                for line in f:\n",
        "                    m = re.search(r\".*\\\\v (\\d*).*\", line)\n",
        "                    if m:\n",
        "                        last_verse = m.group(1)\n",
        "                    m = re.search(r\".*\\\\c (\\d*).*\", line)\n",
        "                    if m:\n",
        "                        last_chapter = m.group(1)\n",
        "                        if last_chapter == \"4\":\n",
        "                            last_verses_ch_3_5 += \"3:\" + last_verse\n",
        "                        elif last_chapter == \"6\":\n",
        "                            last_verses_ch_3_5 += \" 5:\" + last_verse\n",
        "                        elif last_chapter == \"14\":\n",
        "                            last_verse_ch_13 = last_verse\n",
        "            except Exception as e:\n",
        "                print(f\"Something went wrong in reading {daniel}, reason:  {e}\")\n",
        "\n",
        "            versification = conclude_versification(last_verses_ch_3_5, last_verse_ch_13)\n",
        "            pt_versification, project = get_paratext_versification(daniel)\n",
        "            custom_versification = get_custom_versification(project)\n",
        "            star = get_star(versification, pt_versification, custom_versification)\n",
        "            conclusion = get_conclusion(versification, custom_versification, last_verses_ch_3_5)\n",
        "\n",
        "            if versification != \"\":\n",
        "                extra = \"\"\n",
        "            else:\n",
        "                extra = last_verses_ch_3_5\n",
        "            row = {\"CONCLUDED\": versification, \"PARATEXT\": pt_versification, \"CUSTOM\": custom_versification, \"PROJECT\": project, \"REMARK\": star, \"\": extra, \"CONCLUSION\": conclusion}\n",
        "            writer.writerow(row)\n",
        "\n",
        "get_versifications(\"DAN\")\n"
      ],
      "metadata": {
        "colab": {
          "base_uri": "https://localhost:8080/"
        },
        "id": "greT1d0oiAOD",
        "outputId": "19e18b06-6e5f-4fbd-aeed-d646c8d33b16"
      },
      "execution_count": 25,
      "outputs": [
        {
          "output_type": "stream",
          "name": "stdout",
          "text": [
            "Could not open /content/drive/Shareddrives/Partnership for Applied Biblical NLP/Data/Corpora/Paratext_projects/B2000/custom.vrs, reason:  'utf-8' codec can't decode byte 0xff in position 0: invalid start byte\n",
            "Could not open /content/drive/Shareddrives/Partnership for Applied Biblical NLP/Data/Corpora/Paratext_projects/NRSV/custom.vrs, reason:  'utf-8' codec can't decode byte 0xff in position 0: invalid start byte\n",
            "Could not open /content/drive/Shareddrives/Partnership for Applied Biblical NLP/Data/Corpora/Paratext_projects/SB1917/custom.vrs, reason:  'utf-8' codec can't decode byte 0xff in position 0: invalid start byte\n",
            "Something went wrong in reading /content/drive/Shareddrives/Partnership for Applied Biblical NLP/Data/Corpora/Paratext_projects/pma/27DANPMA.SFM, reason:  'utf-8' codec can't decode byte 0x91 in position 1843: invalid start byte\n"
          ]
        }
      ]
    }
  ],
  "metadata": {
    "accelerator": "GPU",
    "colab": {
      "collapsed_sections": [],
      "provenance": [],
      "include_colab_link": true
    },
    "kernelspec": {
      "display_name": "Python 3",
      "name": "python3"
    }
  },
  "nbformat": 4,
  "nbformat_minor": 0
}