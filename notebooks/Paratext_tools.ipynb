{
  "cells": [
    {
      "cell_type": "markdown",
      "metadata": {
        "id": "view-in-github",
        "colab_type": "text"
      },
      "source": [
        "<a href=\"https://colab.research.google.com/github/vesaakerman/hello-world/blob/master/notebooks/Paratext_tools.ipynb\" target=\"_parent\"><img src=\"https://colab.research.google.com/assets/colab-badge.svg\" alt=\"Open In Colab\"/></a>"
      ]
    },
    {
      "cell_type": "code",
      "execution_count": 2,
      "metadata": {
        "colab": {
          "base_uri": "https://localhost:8080/"
        },
        "id": "_8dvXZnMNniY",
        "outputId": "aa0fc0aa-6e3f-4724-826c-893421ef6082"
      },
      "outputs": [
        {
          "output_type": "stream",
          "name": "stdout",
          "text": [
            "Mounted at /content/drive\n"
          ]
        }
      ],
      "source": [
        "from google.colab import drive\n",
        "drive.mount('/content/drive')"
      ]
    },
    {
      "cell_type": "markdown",
      "metadata": {
        "id": "vP0Kifqb8Hko"
      },
      "source": [
        "# List number of different versifications in Paratext projects & number of custom versifications"
      ]
    },
    {
      "cell_type": "code",
      "execution_count": 13,
      "metadata": {
        "colab": {
          "base_uri": "https://localhost:8080/"
        },
        "id": "Nnj1U_V3ln0n",
        "outputId": "a17bfe7a-382c-48cc-e142-1a633dfd1290"
      },
      "outputs": [
        {
          "output_type": "stream",
          "name": "stdout",
          "text": [
            "      could not find file /content/drive/Shareddrives/Partnership for Applied Biblical NLP/Data/Corpora/Paratext_projects/kpg/Settings.xml\n",
            "      could not find file /content/drive/Shareddrives/Partnership for Applied Biblical NLP/Data/Corpora/Paratext_projects/LOG/Settings.xml\n",
            "      could not find file /content/drive/Shareddrives/Partnership for Applied Biblical NLP/Data/Corpora/Paratext_projects/NKRV/Settings.xml\n",
            "      could not find file /content/drive/Shareddrives/Partnership for Applied Biblical NLP/Data/Corpora/Paratext_projects/conNTpo/Settings.xml\n",
            "\n",
            "Versification 1: 307,  of which 222 has custom versification file\n",
            "Versification 2: 4,    of which 4   has custom versification file\n",
            "Versification 3: 13,   of which 8   has custom versification file\n",
            "Versification 4: 1307, of which 426 has custom versification file\n",
            "Versification 5: 28,   of which 23  has custom versification file\n",
            "Versification 6: 18,   of which 15  has custom versification file\n",
            "Versific. None : 32,   of which 13  has custom versification file\n"
          ]
        }
      ],
      "source": [
        "from pathlib import Path\n",
        "import xml.etree.ElementTree as ET\n",
        "\n",
        "pfolder = Path(\"/content/drive/Shareddrives/Partnership for Applied Biblical NLP/Data/Corpora/Paratext_projects\")\n",
        "\n",
        "def get_versification_from_settings_file(settings_file):\n",
        "    versification = None\n",
        "    try:\n",
        "        tree = ET.parse(settings_file)\n",
        "        versification_elem = tree.find('.//Versification')\n",
        "        try:\n",
        "            versification = versification_elem.text\n",
        "        except:\n",
        "            pass\n",
        "    except FileNotFoundError:\n",
        "        print(f\"      could not find file {settings_file}\")\n",
        "    except IndexError:\n",
        "        print(f\"      IndexError finding Versification in {settings_file}\")\n",
        "        pass\n",
        "    return versification\n",
        "\n",
        "\n",
        "def custom_versification_file_exists(project):\n",
        "    custom = project  / \"custom.vrs\"\n",
        "    return custom.exists()\n",
        "\n",
        "\n",
        "def get_versifications(dir):\n",
        "    amounts = {\"1\": 0, \"2\": 0, \"3\": 0, \"4\": 0, \"5\": 0, \"6\": 0, \"None\": 0, \"1cu\": 0, \"2cu\": 0, \"3cu\": 0, \"4cu\": 0, \"5cu\": 0, \"6cu\": 0, \"Nonecu\": 0}\n",
        "    for project in dir.iterdir():\n",
        "        settings_file = project / \"Settings.xml\"\n",
        "        versification = get_versification_from_settings_file(settings_file)\n",
        "        if not versification:\n",
        "            versification = \"None\"\n",
        "        amounts[versification] += 1\n",
        "        if custom_versification_file_exists(project):\n",
        "            amounts[versification + \"cu\"] += 1\n",
        "        \n",
        "\n",
        "    print(f\"\\nVersification 1: {amounts['1']},  of which {amounts['1cu']} has custom versification file\")\n",
        "    print(f\"Versification 2: {amounts['2']},    of which {amounts['2cu']}   has custom versification file\")\n",
        "    print(f\"Versification 3: {amounts['3']},   of which {amounts['3cu']}   has custom versification file\")\n",
        "    print(f\"Versification 4: {amounts['4']}, of which {amounts['4cu']} has custom versification file\")\n",
        "    print(f\"Versification 5: {amounts['5']},   of which {amounts['5cu']}  has custom versification file\")\n",
        "    print(f\"Versification 6: {amounts['6']},   of which {amounts['6cu']}  has custom versification file\")\n",
        "    print(f\"Versific. None : {amounts['None']},   of which {amounts['Nonecu']}  has custom versification file\")\n",
        "\n",
        "\n",
        "get_versifications(pfolder)\n"
      ]
    }
  ],
  "metadata": {
    "accelerator": "GPU",
    "colab": {
      "collapsed_sections": [],
      "provenance": [],
      "include_colab_link": true
    },
    "kernelspec": {
      "display_name": "Python 3",
      "name": "python3"
    }
  },
  "nbformat": 4,
  "nbformat_minor": 0
}