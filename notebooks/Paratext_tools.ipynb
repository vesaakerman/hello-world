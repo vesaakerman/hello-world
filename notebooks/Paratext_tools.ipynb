{
  "cells": [
    {
      "cell_type": "markdown",
      "metadata": {
        "id": "view-in-github",
        "colab_type": "text"
      },
      "source": [
        "<a href=\"https://colab.research.google.com/github/vesaakerman/hello-world/blob/master/notebooks/Paratext_tools.ipynb\" target=\"_parent\"><img src=\"https://colab.research.google.com/assets/colab-badge.svg\" alt=\"Open In Colab\"/></a>"
      ]
    },
    {
      "cell_type": "code",
      "execution_count": 1,
      "metadata": {
        "colab": {
          "base_uri": "https://localhost:8080/"
        },
        "id": "_8dvXZnMNniY",
        "outputId": "41a26214-0850-4ef8-ec6e-800b2183fb77"
      },
      "outputs": [
        {
          "output_type": "stream",
          "name": "stdout",
          "text": [
            "Mounted at /content/drive\n"
          ]
        }
      ],
      "source": [
        "from google.colab import drive\n",
        "drive.mount('/content/drive')"
      ]
    },
    {
      "cell_type": "markdown",
      "metadata": {
        "id": "tJk04uG2Kslv"
      },
      "source": [
        "# List number of different versifications in Paratext projects"
      ]
    },
    {
      "cell_type": "code",
      "execution_count": 4,
      "metadata": {
        "colab": {
          "base_uri": "https://localhost:8080/"
        },
        "id": "_HF5vFVTACH9",
        "outputId": "822f92c7-1d8d-4649-ae71-e6fee160dddb"
      },
      "outputs": [
        {
          "output_type": "stream",
          "name": "stdout",
          "text": [
            "      could not find file /content/drive/Shareddrives/Partnership for Applied Biblical NLP/Data/Corpora/Paratext_projects/kpg/Settings.xml\n",
            "      could not find file /content/drive/Shareddrives/Partnership for Applied Biblical NLP/Data/Corpora/Paratext_projects/LOG/Settings.xml\n",
            "      could not find file /content/drive/Shareddrives/Partnership for Applied Biblical NLP/Data/Corpora/Paratext_projects/NKRV/Settings.xml\n",
            "      could not find file /content/drive/Shareddrives/Partnership for Applied Biblical NLP/Data/Corpora/Paratext_projects/conNTpo/Settings.xml\n",
            "{'1': 307, '2': 4, '3': 13, '4': 1307, '5': 28, '6': 18, None: 32}\n"
          ]
        }
      ],
      "source": [
        "from pathlib import Path\n",
        "import xml.etree.ElementTree as ET\n",
        "\n",
        "pfolder = Path(\"/content/drive/Shareddrives/Partnership for Applied Biblical NLP/Data/Corpora/Paratext_projects\")\n",
        "\n",
        "def get_versification_from_settings_file(settings_file):\n",
        "    versification = None\n",
        "    try:\n",
        "        tree = ET.parse(settings_file)\n",
        "        versification_elem = tree.find('.//Versification')\n",
        "        try:\n",
        "            versification = versification_elem.text\n",
        "        except:\n",
        "            pass\n",
        "    except FileNotFoundError:\n",
        "        print(f\"      could not find file {settings_file}\")\n",
        "    except IndexError:\n",
        "        print(f\"      IndexError finding Versification in {settings_file}\")\n",
        "        pass\n",
        "    return versification\n",
        "\n",
        "\n",
        "def get_versifications(dir):\n",
        "    amounts = {\"1\": 0, \"2\": 0, \"3\": 0, \"4\": 0, \"5\": 0, \"6\": 0, None: 0}\n",
        "    for project in dir.iterdir():\n",
        "        settings_file = project / \"Settings.xml\"\n",
        "        versification = get_versification_from_settings_file(settings_file)\n",
        "        amounts[versification] += 1\n",
        "\n",
        "    print(amounts)\n",
        "\n",
        "\n",
        "get_versifications(pfolder)\n"
      ]
    },
    {
      "cell_type": "markdown",
      "metadata": {
        "id": "vP0Kifqb8Hko"
      },
      "source": [
        "# List number of different versifications in Paratext projects & number of custom versifications"
      ]
    },
    {
      "cell_type": "code",
      "execution_count": 6,
      "metadata": {
        "colab": {
          "base_uri": "https://localhost:8080/"
        },
        "id": "Nnj1U_V3ln0n",
        "outputId": "b7df2d07-fc72-479b-bf15-a5a236400b43"
      },
      "outputs": [
        {
          "output_type": "stream",
          "name": "stdout",
          "text": [
            "      could not find file /content/drive/Shareddrives/Partnership for Applied Biblical NLP/Data/Corpora/Paratext_projects/kpg/Settings.xml\n",
            "      could not find file /content/drive/Shareddrives/Partnership for Applied Biblical NLP/Data/Corpora/Paratext_projects/LOG/Settings.xml\n",
            "      could not find file /content/drive/Shareddrives/Partnership for Applied Biblical NLP/Data/Corpora/Paratext_projects/NKRV/Settings.xml\n",
            "      could not find file /content/drive/Shareddrives/Partnership for Applied Biblical NLP/Data/Corpora/Paratext_projects/conNTpo/Settings.xml\n",
            "{'1': 85, '2': 0, '3': 5, '4': 881, '5': 5, '6': 3, 'None': 19, '1cu': 222, '2cu': 4, '3cu': 8, '4cu': 426, '5cu': 23, '6cu': 15, 'Nonecu': 13}\n"
          ]
        }
      ],
      "source": [
        "from pathlib import Path\n",
        "import xml.etree.ElementTree as ET\n",
        "\n",
        "pfolder = Path(\"/content/drive/Shareddrives/Partnership for Applied Biblical NLP/Data/Corpora/Paratext_projects\")\n",
        "\n",
        "def get_versification_from_settings_file(settings_file):\n",
        "    versification = None\n",
        "    try:\n",
        "        tree = ET.parse(settings_file)\n",
        "        versification_elem = tree.find('.//Versification')\n",
        "        try:\n",
        "            versification = versification_elem.text\n",
        "        except:\n",
        "            pass\n",
        "    except FileNotFoundError:\n",
        "        print(f\"      could not find file {settings_file}\")\n",
        "    except IndexError:\n",
        "        print(f\"      IndexError finding Versification in {settings_file}\")\n",
        "        pass\n",
        "    return versification\n",
        "\n",
        "\n",
        "def custom_versification_file_exists(project):\n",
        "    custom = project  / \"custom.vrs\"\n",
        "    return custom.exists()\n",
        "\n",
        "\n",
        "def get_versifications(dir):\n",
        "    amounts = {\"1\": 0, \"2\": 0, \"3\": 0, \"4\": 0, \"5\": 0, \"6\": 0, \"None\": 0, \"1cu\": 0, \"2cu\": 0, \"3cu\": 0, \"4cu\": 0, \"5cu\": 0, \"6cu\": 0, \"Nonecu\": 0}\n",
        "    for project in dir.iterdir():\n",
        "        settings_file = project / \"Settings.xml\"\n",
        "        versification = get_versification_from_settings_file(settings_file)\n",
        "        if not versification:\n",
        "            versification = \"None\"\n",
        "        if custom_versification_file_exists(project):\n",
        "            versification += \"cu\"\n",
        "        amounts[versification] += 1\n",
        "\n",
        "    print(amounts)\n",
        "\n",
        "\n",
        "get_versifications(pfolder)\n"
      ]
    }
  ],
  "metadata": {
    "accelerator": "GPU",
    "colab": {
      "collapsed_sections": [],
      "provenance": [],
      "include_colab_link": true
    },
    "kernelspec": {
      "display_name": "Python 3",
      "name": "python3"
    }
  },
  "nbformat": 4,
  "nbformat_minor": 0
}