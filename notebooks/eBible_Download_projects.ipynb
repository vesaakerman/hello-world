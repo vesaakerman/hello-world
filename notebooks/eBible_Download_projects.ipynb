{
  "cells": [
    {
      "cell_type": "markdown",
      "metadata": {
        "id": "view-in-github",
        "colab_type": "text"
      },
      "source": [
        "<a href=\"https://colab.research.google.com/github/vesaakerman/hello-world/blob/master/notebooks/eBible_Download_projects.ipynb\" target=\"_parent\"><img src=\"https://colab.research.google.com/assets/colab-badge.svg\" alt=\"Open In Colab\"/></a>"
      ]
    },
    {
      "cell_type": "code",
      "execution_count": 1,
      "metadata": {
        "colab": {
          "base_uri": "https://localhost:8080/"
        },
        "id": "_8dvXZnMNniY",
        "outputId": "f9c3fb71-e147-4032-ef36-8f108beb354d"
      },
      "outputs": [
        {
          "output_type": "stream",
          "name": "stdout",
          "text": [
            "Mounted at /content/drive\n"
          ]
        }
      ],
      "source": [
        "from google.colab import drive\n",
        "drive.mount('/content/drive')"
      ]
    },
    {
      "cell_type": "markdown",
      "source": [
        "# Define base folder"
      ],
      "metadata": {
        "id": "awnVICVNmGVf"
      }
    },
    {
      "cell_type": "code",
      "source": [
        "base = \"/content/drive/Shareddrives/Partnership for Applied Biblical NLP/Data/Corpora/ebible\""
      ],
      "metadata": {
        "id": "V-dpuImLmX4J"
      },
      "execution_count": 2,
      "outputs": []
    },
    {
      "cell_type": "markdown",
      "metadata": {
        "id": "j6Az2jLOoHPa"
      },
      "source": [
        "# Import modules and directory paths"
      ]
    },
    {
      "cell_type": "code",
      "execution_count": 5,
      "metadata": {
        "id": "JsAEZs5WoPbv",
        "colab": {
          "base_uri": "https://localhost:8080/"
        },
        "outputId": "19b77673-0522-4411-d8e4-6b24d402e84a"
      },
      "outputs": [
        {
          "output_type": "stream",
          "name": "stdout",
          "text": [
            "https://ebible.org/Scriptures/\n",
            "https://ebible.org/Scriptures/translations.csv\n",
            "/content/drive/MyDrive/eBible/downloads\n",
            "/content/drive/MyDrive/eBible/metadata/translations.csv\n",
            "/content/drive/MyDrive/eBible/logs\n"
          ]
        }
      ],
      "source": [
        "import os\n",
        "from pathlib import Path\n",
        "from datetime import date, datetime\n",
        "from random import randint\n",
        "import requests\n",
        "from time import sleep\n",
        "import shutil\n",
        "from glob import iglob\n",
        "from bs4 import BeautifulSoup\n",
        "from csv import DictReader, DictWriter\n",
        "import ntpath\n",
        "import regex\n",
        "\n",
        "eBible_url = r\"https://ebible.org/Scriptures/\"\n",
        "eBible_csv_url = r\"https://ebible.org/Scriptures/translations.csv\"\n",
        "\n",
        "zipped = Path(base) / \"downloads\"\n",
        "metadata = Path(base) / \"metadata\"\n",
        "metadata_csv = metadata / \"translations.csv\"\n",
        "logs = Path(base) / \"logs\"\n",
        "\n",
        "file_suffix = \"_usfm.zip\"\n",
        "csv_headers = [\n",
        "    \"ID\",\n",
        "    \"File\",\n",
        "    \"Language\",\n",
        "    \"Dialect\",\n",
        "    \"Licence Type\",\n",
        "    \"Licence Version\",\n",
        "    \"CC Licence Link\",\n",
        "    \"Copyright Holder\",\n",
        "    \"Copyright Years\",\n",
        "    \"Translation by\",\n",
        "]\n",
        "\n",
        "print(eBible_url)\n",
        "print(eBible_csv_url)\n",
        "print(zipped)\n",
        "print(metadata_csv)\n",
        "print(logs)"
      ]
    },
    {
      "cell_type": "markdown",
      "metadata": {
        "id": "lMdkvOPbzdMg"
      },
      "source": [
        "# Define methods for downloading eBibles"
      ]
    },
    {
      "cell_type": "code",
      "execution_count": 6,
      "metadata": {
        "id": "mHI0bcJYz6ID"
      },
      "outputs": [],
      "source": [
        "def log_and_print(s, type='ínfo'):\n",
        "    log_file.write(f\"{type.upper()}: {datetime.now().strftime('%Y-%m-%d %H:%M:%S')} {s}\\n\")\n",
        "    print(s)\n",
        "\n",
        "def make_directories():\n",
        "    os.makedirs(zipped, exist_ok=True)\n",
        "    os.makedirs(metadata, exist_ok=True)\n",
        "    os.makedirs(logs, exist_ok=True)\n",
        "\n",
        "\n",
        "def download_csv_file(url, headers, save_as):\n",
        "\n",
        "    r = requests.get(url, headers=headers)\n",
        "    # If the status is OK continue\n",
        "    if r.status_code == requests.codes.ok:\n",
        "\n",
        "        with open(save_as, \"wb\") as out_file:\n",
        "            # Write out the content of the page.\n",
        "            out_file.write(r.content)\n",
        "\n",
        "        return save_as\n",
        "    return None\n",
        "\n",
        "\n",
        "def download_zip_file(url, headers, save_as):\n",
        "\n",
        "    r = requests.get(url, headers=headers)\n",
        "    # If the status is OK continue\n",
        "    if r.status_code == requests.codes.ok:\n",
        "\n",
        "        with open(save_as, \"wb\") as out_file:\n",
        "            # Write out the content of the page.\n",
        "            out_file.write(r.content)\n",
        "\n",
        "        return save_as\n",
        "    return None\n",
        "    \n",
        "# def get_folder(file):\n",
        "#     # Get the path of the folder to which the zip file should be extracted.\"\n",
        "#     return unzipped / file.name[0: (len(file.name) - len(file_suffix))]\n",
        "\n",
        "\n",
        "# def get_tree_size(path):\n",
        "#     \"\"\"Return total size of files in given path and subdirs.\"\"\"\n",
        "#     total = 0\n",
        "#     for entry in os.scandir(path):\n",
        "#         if entry.is_dir(follow_symlinks=False):\n",
        "#             total += get_tree_size(entry.path)\n",
        "#         else:\n",
        "#             total += entry.stat(follow_symlinks=False).st_size\n",
        "#     return total\n",
        "    \n",
        "    \n",
        "# def unzip_ebibles(source_folder, file_suffix, dest_folder):\n",
        "#     log_and_print(f\"Starting unzipping eBible zip files...\")\n",
        "#     pattern = \"*\" + file_suffix\n",
        "#     zip_files = sorted([zip_file for zip_file in source_folder.glob(pattern)])\n",
        "#     log_and_print(f\"Found {len(zip_files)} files in {source_folder} matching pattern: {pattern}\")\n",
        "\n",
        "#     # Strip off the pattern so that the subfolder name is the project ID.\n",
        "#     extract_folders = [ (zip_file, get_folder(zip_file)) for zip_file in zip_files ]\n",
        "#     extracts = [ (zip_file, folder) for zip_file, folder in extract_folders if not folder.exists() or zip_file.stat().st_size >= get_tree_size(folder) ]\n",
        "    \n",
        "#     log_and_print(f\"Found {len(extracts)} that were not yet extracted or are smaller than the zip file.\")\n",
        "    \n",
        "#     for zip_file, extract in extracts:\n",
        "#         extract.mkdir(parents=True, exist_ok=True)\n",
        "#         log_and_print(f\"Extracting to: {extract}\")\n",
        "#         shutil.unpack_archive(zip_file, extract)\n",
        "\n",
        "#     log_and_print(f\"Finished unzipping eBible files\")\n",
        "\n",
        "def get_filenames(metadata_csv):\n",
        "    file_infos = []\n",
        "    countall = count_redist = 0\n",
        "\n",
        "    with open(metadata_csv, encoding=\"utf-8-sig\", newline=\"\") as csvfile:\n",
        "        reader = DictReader(csvfile, delimiter=\",\", quotechar='\"')\n",
        "        for row in reader:\n",
        "            countall += 1\n",
        "            if row[\"Redistributable\"] == \"True\":\n",
        "                row[\"Redistributable\"] = True\n",
        "\n",
        "                file_infos.append(row)\n",
        "                count_redist += 1\n",
        "\n",
        "            if row[\"Redistributable\"] == \"False\":\n",
        "                row[\"Redistributable\"] = False\n",
        "\n",
        "                file_infos.append(row)\n",
        "\n",
        "        filenames = [row[\"translationId\"] + file_suffix for row in file_infos]\n",
        "        log_and_print(f\"The translations csv file lists {countall} translations and {count_redist} are redistributable.\")\n",
        "\n",
        "        return filenames\n"
      ]
    },
    {
      "cell_type": "markdown",
      "metadata": {
        "id": "8oQDn6UjoYw1"
      },
      "source": [
        "# Download eBible projects "
      ]
    },
    {
      "cell_type": "code",
      "execution_count": 7,
      "metadata": {
        "id": "RJxJjQnsvx_z",
        "colab": {
          "base_uri": "https://localhost:8080/"
        },
        "outputId": "abd7c8e8-d8c7-4ed6-f646-f99a1c171050"
      },
      "outputs": [
        {
          "output_type": "stream",
          "name": "stdout",
          "text": [
            "Starting downloading eBible files...\n",
            "Downloading list of translations from https://ebible.org/Scriptures/translations.csv to: /content/drive/MyDrive/eBible/metadata/translations.csv\n",
            "The translations csv file lists 1285 translations and 1036 are redistributable.\n",
            "There are 0 files with the suffix _usfm.zip already in /content/drive/MyDrive/eBible/downloads\n",
            "\n",
            "There are 1285 files still to download.\n",
            "1: Downloading from https://ebible.org/Scriptures/aai_usfm.zip to /content/drive/MyDrive/eBible/downloads/aai_usfm.zip.\n",
            "Saved https://ebible.org/Scriptures/aai_usfm.zip as /content/drive/MyDrive/eBible/downloads/aai_usfm.zip\n",
            "\n",
            "2: Downloading from https://ebible.org/Scriptures/aak_usfm.zip to /content/drive/MyDrive/eBible/downloads/aak_usfm.zip.\n",
            "Saved https://ebible.org/Scriptures/aak_usfm.zip as /content/drive/MyDrive/eBible/downloads/aak_usfm.zip\n",
            "\n",
            "Finished downloading eBible files\n"
          ]
        }
      ],
      "source": [
        "# Create directories if they don't already exist\n",
        "make_directories()\n",
        "\n",
        "log_file = open(logs / f\"run_{date.today()}.log\", \"a\")\n",
        "\n",
        "# Set the user-agent to Chrome for Requests.\n",
        "headers = {\"user-agent\": \"Chrome/51.0.2704.106\"}\n",
        "\n",
        "# Download the list of translations.\n",
        "log_and_print(f\"Starting downloading eBible files...\")\n",
        "log_and_print(f\"Downloading list of translations from {eBible_csv_url} to: {str(metadata_csv)}\")\n",
        "done = download_csv_file(eBible_csv_url, headers, metadata_csv)\n",
        "\n",
        "if not done:\n",
        "    log_and_print(f\"Couldn't download {eBible_csv_url}\")\n",
        "    exit\n",
        "\n",
        "# Get filenames\n",
        "filenames = sorted(get_filenames(metadata_csv))\n",
        "\n",
        "# Find which files have already been downloaded:\n",
        "already_downloaded = sorted([file.name for file in zipped.glob(\"*\" + file_suffix)])\n",
        "log_and_print(f\"There are {len(already_downloaded)} files with the suffix {file_suffix} already in {zipped}\")\n",
        "\n",
        "# Those that require downloading are the filenames - already_downloaded.\n",
        "to_download = sorted(set(filenames) - set(already_downloaded))\n",
        "log_and_print(f\"There are {len(to_download)} files still to download.\")\n",
        "\n",
        "# Download the zipped USFM file if it doesn't already exist.\n",
        "\n",
        "for i, filename in enumerate(to_download):\n",
        "\n",
        "    if i < 2:\n",
        "\n",
        "        # Construct the download url and the local file path.\n",
        "        url = eBible_url + filename\n",
        "        save_as = zipped / filename\n",
        "\n",
        "        # Skip any missing filenames.\n",
        "        if filename == \"\":\n",
        "            continue\n",
        "\n",
        "        # Skip existing files that contain data.\n",
        "        elif save_as.exists() and save_as.stat().st_size > 100:\n",
        "            log_and_print(f\"{i+1}: {save_as} already exists and contains {save_as.stat().st_size} bytes.\")\n",
        "            continue\n",
        "\n",
        "        else:\n",
        "            log_and_print(f\"{i+1}: Downloading from {url} to {save_as}.\")\n",
        "            done = download_zip_file(url, headers, save_as)\n",
        "\n",
        "            if done:\n",
        "                log_and_print(f\"Saved {url} as {save_as}\\n\")\n",
        "                # Pause for a random number of miliseconds\n",
        "                pause = randint(1, 5000) / 1000\n",
        "                sleep(pause)\n",
        "\n",
        "            else:\n",
        "                log_and_print(f\"Could not download {url}\\n\")\n",
        "            \n",
        "log_and_print(f\"Finished downloading eBible files\")\n",
        "\n",
        "log_file.close()"
      ]
    }
  ],
  "metadata": {
    "colab": {
      "collapsed_sections": [],
      "provenance": [],
      "include_colab_link": true
    },
    "kernelspec": {
      "display_name": "Python 3",
      "name": "python3"
    }
  },
  "nbformat": 4,
  "nbformat_minor": 0
}