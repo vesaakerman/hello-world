{
  "nbformat": 4,
  "nbformat_minor": 0,
  "metadata": {
    "colab": {
      "provenance": [],
      "collapsed_sections": [],
      "include_colab_link": true
    },
    "kernelspec": {
      "display_name": "Python 3",
      "name": "python3"
    },
    "accelerator": "GPU"
  },
  "cells": [
    {
      "cell_type": "markdown",
      "metadata": {
        "id": "view-in-github",
        "colab_type": "text"
      },
      "source": [
        "<a href=\"https://colab.research.google.com/github/vesaakerman/hello-world/blob/master/notebooks/eBible_Extractions.ipynb\" target=\"_parent\"><img src=\"https://colab.research.google.com/assets/colab-badge.svg\" alt=\"Open In Colab\"/></a>"
      ]
    },
    {
      "cell_type": "code",
      "metadata": {
        "colab": {
          "base_uri": "https://localhost:8080/"
        },
        "id": "_8dvXZnMNniY",
        "outputId": "87be7815-4171-4ea5-a65d-db22f56ecf1c"
      },
      "source": [
        "from google.colab import drive\n",
        "drive.mount('/content/drive')"
      ],
      "execution_count": null,
      "outputs": [
        {
          "output_type": "stream",
          "name": "stdout",
          "text": [
            "Mounted at /content/drive\n"
          ]
        }
      ]
    },
    {
      "cell_type": "markdown",
      "source": [
        "# Define base folder"
      ],
      "metadata": {
        "id": "awnVICVNmGVf"
      }
    },
    {
      "cell_type": "code",
      "source": [
        "base = \"/content/drive/MyDrive/eBible/\""
      ],
      "metadata": {
        "id": "V-dpuImLmX4J"
      },
      "execution_count": null,
      "outputs": []
    },
    {
      "cell_type": "markdown",
      "source": [
        "# Install needed resources"
      ],
      "metadata": {
        "id": "WY-MY_4G1ou0"
      }
    },
    {
      "cell_type": "code",
      "metadata": {
        "id": "Q0lZMDhMJVHC"
      },
      "source": [
        "# Install .NET\n",
        "! wget -q https://packages.microsoft.com/config/ubuntu/18.04/packages-microsoft-prod.deb -O packages-microsoft-prod.deb\n",
        "! dpkg -i packages-microsoft-prod.deb\n",
        "! add-apt-repository universe\n",
        "! apt-get update\n",
        "! apt-get install apt-transport-https\n",
        "! apt-get update\n",
        "! apt-get install dotnet-sdk-3.1"
      ],
      "execution_count": null,
      "outputs": []
    },
    {
      "cell_type": "code",
      "metadata": {
        "id": "nOAaBNHhseqc"
      },
      "source": [
        "#\n",
        "# Install SentencePiece, OpenNMT-tf, Boto3 and s3path\n",
        "# and clone the silnlp repository\n",
        "#\n",
        "\n",
        "!pip install tensorflow==2.4.1\n",
        "!pip install sentencepiece\n",
        "!git clone https://github.com/OpenNMT/OpenNMT-tf\n",
        "!pip install OpenNMT-tf\n",
        "\n",
        "!pip install python-dotenv\n",
        "!pip install sil-machine\n",
        "\n",
        "!pip install boto3\n",
        "!pip install s3path\n",
        "!pip install requests\n",
        "\n",
        "# Clone the silnlp repo\n",
        "!git clone https://github.com/sillsdev/silnlp"
      ],
      "execution_count": null,
      "outputs": []
    },
    {
      "cell_type": "markdown",
      "source": [
        "# Extract Bible texts"
      ],
      "metadata": {
        "id": "fYcGRtGB1eRu"
      }
    },
    {
      "cell_type": "code",
      "metadata": {
        "id": "zoR0briHQMxU",
        "colab": {
          "base_uri": "https://localhost:8080/"
        },
        "outputId": "d019b328-4c9a-4261-fae1-f497d4ba4165"
      },
      "source": [
        "import os\n",
        "from pathlib import Path\n",
        "\n",
        "# Tell the SIL NLP tools where to find the resources\n",
        "os.environ['SIL_NLP_DATA_PATH'] = base\n",
        "\n",
        "# Tell Python where to find our repo\n",
        "os.environ['PYTHONPATH'] = \"/env/python:/content/silnlp\"\n",
        "\n",
        "# Tell if the project is overwritten when it already exists\n",
        "rewrite = True\n",
        "\n",
        "# Tell location of projects\n",
        "projects = Path(base + \"redistributable/projects\")\n",
        "\n",
        "for project in projects.glob(\"*\"):\n",
        "  if not (Path(base + \"MT/scripture\") / project).exists or rewrite:\n",
        "    !python -m silnlp.common.extract_corpora \"{project}\"\n"
      ],
      "execution_count": null,
      "outputs": [
        {
          "output_type": "stream",
          "name": "stdout",
          "text": [
            "2022-10-13 08:54:47,418 - silnlp.common.environment - INFO - Using workspace: /content/drive/MyDrive/eBible/ as per environment variable SIL_NLP_DATA_PATH.\n",
            "2022-10-13 08:54:47,442 - silnlp.common.extract_corpora - INFO - Extracting /content/drive/MyDrive/eBible/eBible_redistributable/projects/kqa...\n",
            "2022-10-13 08:54:51,362 - silnlp.common.extract_corpora - INFO - # of Verses: 41899\n",
            "2022-10-13 08:54:51,363 - silnlp.common.extract_corpora - INFO - # of Terms: 0\n",
            "2022-10-13 08:54:51,363 - silnlp.common.extract_corpora - INFO - Done.\n",
            "2022-10-13 08:54:52,943 - silnlp.common.environment - INFO - Using workspace: /content/drive/MyDrive/eBible/ as per environment variable SIL_NLP_DATA_PATH.\n",
            "2022-10-13 08:54:52,967 - silnlp.common.extract_corpora - INFO - Extracting /content/drive/MyDrive/eBible/eBible_redistributable/projects/zacNT...\n",
            "2022-10-13 08:54:58,950 - silnlp.common.extract_corpora - INFO - # of Verses: 41899\n",
            "2022-10-13 08:54:58,951 - silnlp.common.extract_corpora - INFO - # of Terms: 0\n",
            "2022-10-13 08:54:58,951 - silnlp.common.extract_corpora - INFO - Done.\n",
            "2022-10-13 08:55:00,507 - silnlp.common.environment - INFO - Using workspace: /content/drive/MyDrive/eBible/ as per environment variable SIL_NLP_DATA_PATH.\n",
            "2022-10-13 08:55:00,532 - silnlp.common.extract_corpora - INFO - Extracting /content/drive/MyDrive/eBible/eBible_redistributable/projects/zosNT...\n",
            "2022-10-13 08:55:06,759 - silnlp.common.extract_corpora - INFO - # of Verses: 41899\n",
            "2022-10-13 08:55:06,761 - silnlp.common.extract_corpora - INFO - # of Terms: 0\n",
            "2022-10-13 08:55:06,762 - silnlp.common.extract_corpora - INFO - Done.\n",
            "2022-10-13 08:55:08,354 - silnlp.common.environment - INFO - Using workspace: /content/drive/MyDrive/eBible/ as per environment variable SIL_NLP_DATA_PATH.\n",
            "2022-10-13 08:55:08,379 - silnlp.common.extract_corpora - INFO - Extracting /content/drive/MyDrive/eBible/eBible_redistributable/projects/nas...\n",
            "2022-10-13 08:55:14,458 - silnlp.common.extract_corpora - INFO - # of Verses: 41899\n",
            "2022-10-13 08:55:14,459 - silnlp.common.extract_corpora - INFO - # of Terms: 0\n",
            "2022-10-13 08:55:14,459 - silnlp.common.extract_corpora - INFO - Done.\n",
            "2022-10-13 08:55:15,994 - silnlp.common.environment - INFO - Using workspace: /content/drive/MyDrive/eBible/ as per environment variable SIL_NLP_DATA_PATH.\n",
            "2022-10-13 08:55:16,020 - silnlp.common.extract_corpora - INFO - Extracting /content/drive/MyDrive/eBible/eBible_redistributable/projects/zatNTps...\n",
            "2022-10-13 08:55:23,133 - silnlp.common.extract_corpora - INFO - # of Verses: 41899\n",
            "2022-10-13 08:55:23,134 - silnlp.common.extract_corpora - INFO - # of Terms: 0\n",
            "2022-10-13 08:55:23,134 - silnlp.common.extract_corpora - INFO - Done.\n",
            "2022-10-13 08:55:24,633 - silnlp.common.environment - INFO - Using workspace: /content/drive/MyDrive/eBible/ as per environment variable SIL_NLP_DATA_PATH.\n",
            "2022-10-13 08:55:24,658 - silnlp.common.extract_corpora - INFO - Extracting /content/drive/MyDrive/eBible/eBible_redistributable/projects/kjeNT...\n",
            "2022-10-13 08:55:30,802 - silnlp.common.extract_corpora - INFO - # of Verses: 41899\n",
            "2022-10-13 08:55:30,802 - silnlp.common.extract_corpora - INFO - # of Terms: 0\n",
            "2022-10-13 08:55:30,803 - silnlp.common.extract_corpora - INFO - Done.\n",
            "2022-10-13 08:55:32,385 - silnlp.common.environment - INFO - Using workspace: /content/drive/MyDrive/eBible/ as per environment variable SIL_NLP_DATA_PATH.\n",
            "2022-10-13 08:55:32,409 - silnlp.common.extract_corpora - INFO - Extracting /content/drive/MyDrive/eBible/eBible_redistributable/projects/tnaNT...\n",
            "2022-10-13 08:55:38,474 - silnlp.common.extract_corpora - INFO - # of Verses: 41899\n",
            "2022-10-13 08:55:38,475 - silnlp.common.extract_corpora - INFO - # of Terms: 0\n",
            "2022-10-13 08:55:38,475 - silnlp.common.extract_corpora - INFO - Done.\n",
            "2022-10-13 08:55:40,035 - silnlp.common.environment - INFO - Using workspace: /content/drive/MyDrive/eBible/ as per environment variable SIL_NLP_DATA_PATH.\n",
            "2022-10-13 08:55:40,060 - silnlp.common.extract_corpora - INFO - Extracting /content/drive/MyDrive/eBible/eBible_redistributable/projects/klt...\n",
            "2022-10-13 08:55:44,902 - silnlp.common.extract_corpora - INFO - # of Verses: 41899\n",
            "2022-10-13 08:55:44,902 - silnlp.common.extract_corpora - INFO - # of Terms: 0\n",
            "2022-10-13 08:55:44,902 - silnlp.common.extract_corpora - INFO - Done.\n"
          ]
        }
      ]
    }
  ]
}