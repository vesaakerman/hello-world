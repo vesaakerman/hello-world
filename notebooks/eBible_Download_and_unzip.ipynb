{
  "cells": [
    {
      "cell_type": "markdown",
      "metadata": {
        "id": "view-in-github",
        "colab_type": "text"
      },
      "source": [
        "<a href=\"https://colab.research.google.com/github/vesaakerman/hello-world/blob/master/notebooks/eBible_Download_and_unzip.ipynb\" target=\"_parent\"><img src=\"https://colab.research.google.com/assets/colab-badge.svg\" alt=\"Open In Colab\"/></a>"
      ]
    },
    {
      "cell_type": "code",
      "execution_count": 1,
      "metadata": {
        "colab": {
          "base_uri": "https://localhost:8080/"
        },
        "id": "_8dvXZnMNniY",
        "outputId": "f7983205-7c42-4c10-b734-e706db4229ef"
      },
      "outputs": [
        {
          "output_type": "stream",
          "name": "stdout",
          "text": [
            "Mounted at /content/drive\n"
          ]
        }
      ],
      "source": [
        "from google.colab import drive\n",
        "drive.mount('/content/drive')"
      ]
    },
    {
      "cell_type": "markdown",
      "source": [
        "# Define base folder"
      ],
      "metadata": {
        "id": "awnVICVNmGVf"
      }
    },
    {
      "cell_type": "code",
      "source": [
        "base = \"/content/drive/MyDrive/eBible/\""
      ],
      "metadata": {
        "id": "V-dpuImLmX4J"
      },
      "execution_count": null,
      "outputs": []
    },
    {
      "cell_type": "markdown",
      "metadata": {
        "id": "j6Az2jLOoHPa"
      },
      "source": [
        "# Import modules and directory paths"
      ]
    },
    {
      "cell_type": "code",
      "execution_count": null,
      "metadata": {
        "id": "JsAEZs5WoPbv",
        "colab": {
          "base_uri": "https://localhost:8080/"
        },
        "outputId": "e43e00b8-7904-4df3-f34d-e9d0910d739a"
      },
      "outputs": [
        {
          "output_type": "stream",
          "name": "stdout",
          "text": [
            "https://ebible.org/Scriptures/\n",
            "https://ebible.org/Scriptures/translations.csv\n",
            "/content/drive/MyDrive/eBible/eBible_downloads\n",
            "/content/drive/MyDrive/eBible/eBible_projects\n",
            "/content/drive/MyDrive/eBible/eBible_metadata/translations.csv\n"
          ]
        }
      ],
      "source": [
        "import csv\n",
        "import logging\n",
        "import os\n",
        "from pathlib import Path\n",
        "from random import randint\n",
        "import requests\n",
        "from time import sleep\n",
        "import shutil\n",
        "\n",
        "eBible_url = r\"https://ebible.org/Scriptures/\"\n",
        "eBible_csv_url = r\"https://ebible.org/Scriptures/translations.csv\"\n",
        "\n",
        "zipped = Path(base) / \"downloads\"\n",
        "unzipped = Path(base) / \"projects\"\n",
        "\n",
        "metadata_csv = Path(base) / \"eBible_metadata/translations.csv\"\n",
        "\n",
        "file_suffix = \"_usfm.zip\"\n",
        "\n",
        "print(eBible_url)\n",
        "print(eBible_csv_url)\n",
        "print(zipped)\n",
        "print(unzipped)\n",
        "print(metadata_csv)\n"
      ]
    },
    {
      "cell_type": "markdown",
      "metadata": {
        "id": "lMdkvOPbzdMg"
      },
      "source": [
        "# Define methods"
      ]
    },
    {
      "cell_type": "code",
      "execution_count": null,
      "metadata": {
        "id": "mHI0bcJYz6ID"
      },
      "outputs": [],
      "source": [
        "def download_csv_file(url, headers, save_as):\n",
        "\n",
        "    r = requests.get(url, headers=headers)\n",
        "    # If the status is OK continue\n",
        "    if r.status_code == requests.codes.ok:\n",
        "\n",
        "        with open(save_as, \"wb\") as out_file:\n",
        "            # Write out the content of the page.\n",
        "            out_file.write(r.content)\n",
        "\n",
        "        return save_as\n",
        "    return None\n",
        "\n",
        "\n",
        "def save_csv_file(csv_url, save_as):\n",
        "    print(f\"Saving file from {csv_url} to {zips_folder}\")\n",
        "\n",
        "    r = requests.get(csv_url)\n",
        "    # If the status is OK continue\n",
        "    if r.status_code == requests.codes.ok:\n",
        "\n",
        "        with open(save_as, \"wb\") as csv_file:\n",
        "            csv_file.write(r.content)\n",
        "        return save_as\n",
        "\n",
        "    return None\n",
        "\n",
        "\n",
        "def download_zip_file(url, headers, save_as):\n",
        "\n",
        "    r = requests.get(url, headers=headers)\n",
        "    # If the status is OK continue\n",
        "    if r.status_code == requests.codes.ok:\n",
        "\n",
        "        with open(save_as, \"wb\") as out_file:\n",
        "            # Write out the content of the page.\n",
        "            out_file.write(r.content)\n",
        "\n",
        "        return save_as\n",
        "    return None\n",
        "    \n",
        "def get_folder(file):\n",
        "    # Get the path of the folder to which the zip file should be extracted.\"\n",
        "    return unzipped / file.name[0: (len(file.name) - len(file_suffix))]\n",
        "\n",
        "\n",
        "def get_tree_size(path):\n",
        "    \"\"\"Return total size of files in given path and subdirs.\"\"\"\n",
        "    total = 0\n",
        "    for entry in os.scandir(path):\n",
        "        if entry.is_dir(follow_symlinks=False):\n",
        "            total += get_tree_size(entry.path)\n",
        "        else:\n",
        "            total += entry.stat(follow_symlinks=False).st_size\n",
        "    return total\n",
        "    \n",
        "    \n",
        "def unzip_ebibles(source_folder, file_suffix, dest_folder):\n",
        "    pattern = \"*\" + file_suffix\n",
        "    zip_files = [zip_file for zip_file in source_folder.glob(pattern)]\n",
        "    \n",
        "    # Strip off the pattern so that the subfolder name is the project ID.\n",
        "    extract_folders = [ (zip_file, get_folder(zip_file)) for zip_file in zip_files ]\n",
        "    extracts = [ (zip_file, folder) for zip_file, folder in extract_folders if not folder.exists() or zip_file.stat().st_size >= get_tree_size(folder) ]\n",
        "    print(f\"Found {len(zip_files)} files in {source_folder} matching pattern: {pattern}\")\n",
        "    print(f\"Found {len(extracts)} that were not yet extracted or are smaller than the zip file.\")\n",
        "    \n",
        "    for zip_file, extract in extracts:\n",
        "        extract.mkdir(parents=True, exist_ok=True)\n",
        "        print(f\"Extracting to: {extract}\")\n",
        "        shutil.unpack_archive(zip_file, extract)\n"
      ]
    },
    {
      "cell_type": "markdown",
      "metadata": {
        "id": "8oQDn6UjoYw1"
      },
      "source": [
        "# Download and unzip eBible projects "
      ]
    },
    {
      "cell_type": "code",
      "execution_count": null,
      "metadata": {
        "id": "RJxJjQnsvx_z",
        "colab": {
          "base_uri": "https://localhost:8080/"
        },
        "outputId": "00489d5b-3d9a-49c9-9a02-9efe0b2e09bc"
      },
      "outputs": [
        {
          "output_type": "stream",
          "name": "stdout",
          "text": [
            "The translations csv file exists at :/content/drive/MyDrive/eBible/eBible_metadata/translations.csv\n",
            "The translations csv file lists 1238 translations and 979 are redistributable.\n",
            "There are 2 files with the suffix _usfm.zip already in /content/drive/MyDrive/eBible/eBible_downloads\n",
            "\n",
            "There are 1236 files still to download.\n",
            "1: Downloading from https://ebible.org/Scriptures/nas_usfm.zip to /content/drive/MyDrive/eBible/eBible_downloads/nas_usfm.zip.\n",
            "Saved https://ebible.org/Scriptures/nas_usfm.zip as /content/drive/MyDrive/eBible/eBible_downloads/nas_usfm.zip\n",
            "\n",
            "2: Downloading from https://ebible.org/Scriptures/ino2013_usfm.zip to /content/drive/MyDrive/eBible/eBible_downloads/ino2013_usfm.zip.\n",
            "Saved https://ebible.org/Scriptures/ino2013_usfm.zip as /content/drive/MyDrive/eBible/eBible_downloads/ino2013_usfm.zip\n",
            "\n",
            "3: Downloading from https://ebible.org/Scriptures/kqa_usfm.zip to /content/drive/MyDrive/eBible/eBible_downloads/kqa_usfm.zip.\n",
            "Saved https://ebible.org/Scriptures/kqa_usfm.zip as /content/drive/MyDrive/eBible/eBible_downloads/kqa_usfm.zip\n",
            "\n",
            "4: Downloading from https://ebible.org/Scriptures/klt_usfm.zip to /content/drive/MyDrive/eBible/eBible_downloads/klt_usfm.zip.\n",
            "Saved https://ebible.org/Scriptures/klt_usfm.zip as /content/drive/MyDrive/eBible/eBible_downloads/klt_usfm.zip\n",
            "\n",
            "5: Downloading from https://ebible.org/Scriptures/tnaNT_usfm.zip to /content/drive/MyDrive/eBible/eBible_downloads/tnaNT_usfm.zip.\n",
            "Saved https://ebible.org/Scriptures/tnaNT_usfm.zip as /content/drive/MyDrive/eBible/eBible_downloads/tnaNT_usfm.zip\n",
            "\n",
            "6: Downloading from https://ebible.org/Scriptures/tam2008_usfm.zip to /content/drive/MyDrive/eBible/eBible_downloads/tam2008_usfm.zip.\n",
            "Saved https://ebible.org/Scriptures/tam2008_usfm.zip as /content/drive/MyDrive/eBible/eBible_downloads/tam2008_usfm.zip\n",
            "\n",
            "7: Downloading from https://ebible.org/Scriptures/kjeNT_usfm.zip to /content/drive/MyDrive/eBible/eBible_downloads/kjeNT_usfm.zip.\n",
            "Saved https://ebible.org/Scriptures/kjeNT_usfm.zip as /content/drive/MyDrive/eBible/eBible_downloads/kjeNT_usfm.zip\n",
            "\n",
            "8: Downloading from https://ebible.org/Scriptures/stb_usfm.zip to /content/drive/MyDrive/eBible/eBible_downloads/stb_usfm.zip.\n",
            "Saved https://ebible.org/Scriptures/stb_usfm.zip as /content/drive/MyDrive/eBible/eBible_downloads/stb_usfm.zip\n",
            "\n",
            "9: Downloading from https://ebible.org/Scriptures/mcu_usfm.zip to /content/drive/MyDrive/eBible/eBible_downloads/mcu_usfm.zip.\n",
            "Saved https://ebible.org/Scriptures/mcu_usfm.zip as /content/drive/MyDrive/eBible/eBible_downloads/mcu_usfm.zip\n",
            "\n",
            "10: Downloading from https://ebible.org/Scriptures/zatNTps_usfm.zip to /content/drive/MyDrive/eBible/eBible_downloads/zatNTps_usfm.zip.\n",
            "Saved https://ebible.org/Scriptures/zatNTps_usfm.zip as /content/drive/MyDrive/eBible/eBible_downloads/zatNTps_usfm.zip\n",
            "\n",
            "/content/drive/MyDrive/eBible/eBible_projects/zacNT\n",
            "/content/drive/MyDrive/eBible/eBible_projects/zosNT\n",
            "Found 12 files in /content/drive/MyDrive/eBible/eBible_downloads matching pattern: *_usfm.zip\n",
            "Found 10 that were not yet extracted or are smaller than the zip file.\n",
            "Extracting to: /content/drive/MyDrive/eBible/eBible_projects/nas\n",
            "Extracting to: /content/drive/MyDrive/eBible/eBible_projects/ino2013\n",
            "Extracting to: /content/drive/MyDrive/eBible/eBible_projects/kqa\n",
            "Extracting to: /content/drive/MyDrive/eBible/eBible_projects/klt\n",
            "Extracting to: /content/drive/MyDrive/eBible/eBible_projects/tnaNT\n",
            "Extracting to: /content/drive/MyDrive/eBible/eBible_projects/tam2008\n",
            "Extracting to: /content/drive/MyDrive/eBible/eBible_projects/kjeNT\n",
            "Extracting to: /content/drive/MyDrive/eBible/eBible_projects/stb\n",
            "Extracting to: /content/drive/MyDrive/eBible/eBible_projects/mcu\n",
            "Extracting to: /content/drive/MyDrive/eBible/eBible_projects/zatNTps\n"
          ]
        }
      ],
      "source": [
        "# Set the user-agent to Chrome for Requests.\n",
        "headers = {\"user-agent\": \"Chrome/51.0.2704.106\"}\n",
        "\n",
        "# Download the list of translations.\n",
        "print(f\"Downloading list of translations from {eBible_csv_url} to: {str(metadata_csv)}\")\n",
        "done = download_csv_file(eBible_csv_url, headers, metadata_csv)\n",
        "if not done:\n",
        "    print(f\"Couldn't download {eBible_csv_url}\")\n",
        "    exit\n",
        "\n",
        "file_infos = []\n",
        "countall = count_redist = 0\n",
        "\n",
        "with open(metadata_csv, encoding=\"utf-8-sig\", newline=\"\") as csvfile:\n",
        "    reader = csv.DictReader(csvfile, delimiter=\",\", quotechar='\"')\n",
        "    for row in reader:\n",
        "        countall += 1\n",
        "        if row[\"Redistributable\"] == \"True\":\n",
        "            row[\"Redistributable\"] = True\n",
        "\n",
        "            file_infos.append(row)\n",
        "            count_redist += 1\n",
        "\n",
        "        if row[\"Redistributable\"] == \"False\":\n",
        "            row[\"Redistributable\"] = False\n",
        "\n",
        "            file_infos.append(row)\n",
        "\n",
        "    filenames = [row[\"translationId\"] + file_suffix for row in file_infos]\n",
        "    print(f\"The translations csv file lists {countall} translations and {count_redist} are redistributable.\")\n",
        "\n",
        "# Find which files have already been downloaded:\n",
        "already_downloaded = [file.name for file in zipped.glob(\"*\" + file_suffix)]\n",
        "\n",
        "print(f\"There are {len(already_downloaded)} files with the suffix {file_suffix} already in {zipped}\")\n",
        "\n",
        "# Those that require downloading are the filenames - already_downloaded.\n",
        "to_download = set(filenames) - set(already_downloaded)\n",
        "print(f\"\\nThere are {len(to_download)} files still to download.\")\n",
        "\n",
        "# Download the zipped USFM file if it doesn't already exist.\n",
        "\n",
        "for i, filename in enumerate(to_download):\n",
        "\n",
        "    if i < 1:\n",
        "\n",
        "      # Construct the download url and the local file path.\n",
        "      url = eBible_url + filename\n",
        "      save_as = zipped / filename\n",
        "\n",
        "      # Skip any missing filenames.\n",
        "      if filename == \"\":\n",
        "          continue\n",
        "\n",
        "      # Skip existing files that contain data.\n",
        "      elif save_as.exists() and save_as.stat().st_size > 100:\n",
        "          print(f\"{i+1}: {save_as} already exists and contains {save_as.stat().st_size} bytes.\")\n",
        "          continue\n",
        "\n",
        "      else:\n",
        "          print(f\"{i+1}: Downloading from {url} to {save_as}.\")\n",
        "          done = download_zip_file(url, headers, save_as)\n",
        "\n",
        "          if done:\n",
        "              print(f\"Saved {url} as {save_as}\\n\")\n",
        "              # Pause for a random number of miliseconds\n",
        "              pause = randint(1, 5000) / 1000\n",
        "              sleep(pause)\n",
        "\n",
        "          else:\n",
        "              print(f\"Could not download {url}\\n\")\n",
        "\n",
        "unzip_ebibles(zipped, file_suffix, unzipped)\n"
      ]
    }
  ],
  "metadata": {
    "accelerator": "GPU",
    "colab": {
      "collapsed_sections": [],
      "provenance": [],
      "include_colab_link": true
    },
    "kernelspec": {
      "display_name": "Python 3",
      "name": "python3"
    }
  },
  "nbformat": 4,
  "nbformat_minor": 0
}