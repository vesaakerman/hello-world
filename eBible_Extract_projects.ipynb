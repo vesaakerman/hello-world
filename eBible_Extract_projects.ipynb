{
  "cells": [
    {
      "cell_type": "markdown",
      "metadata": {
        "id": "view-in-github",
        "colab_type": "text"
      },
      "source": [
        "<a href=\"https://colab.research.google.com/github/vesaakerman/hello-world/blob/master/eBible_Extract_projects.ipynb\" target=\"_parent\"><img src=\"https://colab.research.google.com/assets/colab-badge.svg\" alt=\"Open In Colab\"/></a>"
      ]
    },
    {
      "cell_type": "code",
      "execution_count": 1,
      "metadata": {
        "colab": {
          "base_uri": "https://localhost:8080/"
        },
        "id": "_8dvXZnMNniY",
        "outputId": "f299483e-005f-4cd0-9331-a592f00c6bf6"
      },
      "outputs": [
        {
          "output_type": "stream",
          "name": "stdout",
          "text": [
            "Mounted at /content/drive\n"
          ]
        }
      ],
      "source": [
        "from google.colab import drive\n",
        "drive.mount('/content/drive')"
      ]
    },
    {
      "cell_type": "markdown",
      "source": [
        "# Define base folder"
      ],
      "metadata": {
        "id": "awnVICVNmGVf"
      }
    },
    {
      "cell_type": "code",
      "source": [
        "base = \"/content/drive/Shareddrives/Partnership for Applied Biblical NLP/Data/Corpora/ebible\""
      ],
      "metadata": {
        "id": "V-dpuImLmX4J"
      },
      "execution_count": 2,
      "outputs": []
    },
    {
      "cell_type": "markdown",
      "metadata": {
        "id": "j6Az2jLOoHPa"
      },
      "source": [
        "# Import modules, define rewrite boolean, directory paths and logging file"
      ]
    },
    {
      "cell_type": "code",
      "execution_count": 8,
      "metadata": {
        "id": "JsAEZs5WoPbv",
        "colab": {
          "base_uri": "https://localhost:8080/"
        },
        "outputId": "e3f92590-5d59-4659-cbb6-bdbf7c299c7f"
      },
      "outputs": [
        {
          "output_type": "stream",
          "name": "stdout",
          "text": [
            "/content/drive/MyDrive/eBible/projects\n",
            "/content/drive/MyDrive/eBible/metadata\n",
            "/content/drive/MyDrive/eBible/metadata/translations.csv\n",
            "/content/drive/MyDrive/eBible/metadata/copyrights.csv\n",
            "/content/drive/MyDrive/eBible/redistributable/projects\n",
            "/content/drive/MyDrive/eBible/extractions/scripture\n",
            "/content/drive/MyDrive/eBible/logs\n",
            "rewrite = False\n"
          ]
        }
      ],
      "source": [
        "from pathlib import Path\n",
        "from datetime import date, datetime\n",
        "from os import listdir, makedirs, environ\n",
        "from os.path import exists\n",
        "from glob import iglob\n",
        "import pandas as pd\n",
        "import shutil\n",
        "import warnings\n",
        "import xml.etree.ElementTree as ET\n",
        "import re\n",
        "import codecs\n",
        "\n",
        "warnings.simplefilter(action='ignore', category=FutureWarning)\n",
        "\n",
        "rewrite = False  # tells if the project is overwritten when it already exists\n",
        "\n",
        "corpus = Path(base)\n",
        "ebible_projects = corpus / 'projects'\n",
        "ebible_metadata = corpus / 'metadata'\n",
        "ebible_translations_csv = ebible_metadata / 'translations.csv'\n",
        "ebible_copyright_csv = ebible_metadata / 'copyrights.csv'\n",
        "ebible_redistributable = corpus / \"redistributable/projects\"\n",
        "ebible_extractions = corpus / \"extractions/scripture\"\n",
        "ebible_logs = corpus / \"logs\"\n",
        "\n",
        "print(ebible_projects)\n",
        "print(ebible_metadata)\n",
        "print(ebible_translations_csv)\n",
        "print(ebible_copyright_csv)\n",
        "print(ebible_redistributable)\n",
        "print(ebible_extractions)\n",
        "print(ebible_logs)\n",
        "print(f\"rewrite = {rewrite}\")"
      ]
    },
    {
      "cell_type": "markdown",
      "source": [
        "# Install packages and clone the silnlp repo"
      ],
      "metadata": {
        "id": "wk_2lgrHjLGp"
      }
    },
    {
      "cell_type": "code",
      "source": [
        "!pip install python-dotenv\n",
        "!pip install sil-machine\n",
        "!pip install boto3\n",
        "!pip install s3path\n",
        "!pip install requests\n",
        "\n",
        "!git clone https://github.com/sillsdev/silnlp"
      ],
      "metadata": {
        "id": "cpIB4aWzjUpL"
      },
      "execution_count": null,
      "outputs": []
    },
    {
      "cell_type": "markdown",
      "metadata": {
        "id": "lMdkvOPbzdMg"
      },
      "source": [
        "# Define methods"
      ]
    },
    {
      "cell_type": "code",
      "execution_count": 19,
      "metadata": {
        "id": "mHI0bcJYz6ID"
      },
      "outputs": [],
      "source": [
        "def improve_column_names(df): df.columns = df.columns.str.strip().str.lower().str.replace('\"', '').str.replace(\"'\", '')\\\n",
        "    .str.replace('(', '').str.replace(')', '').str.replace(' ', '_')\n",
        "\n",
        "\n",
        "def log_and_print(s, type='ínfo'):\n",
        "    if type == \"error\":\n",
        "        log_file.write(f\"ERROR: {datetime.now()} {s}\\n\")\n",
        "    else:\n",
        "        log_file.write(f\"INFO: {datetime.now()} {s}\\n\")\n",
        "    print(s)\n",
        "\n",
        "\n",
        "def get_extracted_projects(dir_extracted):\n",
        "\n",
        "    extracted = []\n",
        "    for line in listdir(dir_extracted):\n",
        "        m = re.search(r\".+-(.+).txt$\", line)\n",
        "        if m:\n",
        "            extracted.append(m.group(1))\n",
        "    \n",
        "    return extracted\n",
        "\n",
        "\n",
        "def get_books_type(files):\n",
        "\n",
        "    for book in files:\n",
        "        m = re.search(r\".*GEN|JON.*\", book)\n",
        "        if m:\n",
        "            return \"OT+NT\"\n",
        "    return \"NT\"\n",
        "\n",
        "\n",
        "def get_conclusion(versification):\n",
        "\n",
        "    if versification != \"\":\n",
        "        return versification\n",
        "    else:\n",
        "        return \"4\" # English\n",
        "\n",
        "\n",
        "def conclude_versification_from_OT(dan_3, dan_5, dan_13):\n",
        "    if dan_3 == 30:\n",
        "        versification = \"4\"  # English\n",
        "    elif dan_3 == 33 and dan_5 == 30:\n",
        "        versification = \"1\"  # Original\n",
        "    elif dan_3 == 33 and dan_5 == 31:\n",
        "        versification = \"5\"  # Russian Protestant\n",
        "    elif dan_3 == 97:\n",
        "        versification = \"2\"  # Septuagint\n",
        "    elif dan_3 == 100:\n",
        "        if dan_13 == 65:\n",
        "            versification = \"3\"  # Vulgate\n",
        "        else:\n",
        "            versification = \"6\"  # Russian Orthodox\n",
        "    else:\n",
        "        versification = \"\"\n",
        "\n",
        "    return versification\n",
        "\n",
        "def conclude_versification_from_NT(jhn_6, act_19, rom_16):\n",
        "    if jhn_6 == 72:\n",
        "        versification = \"3\"  # Vulgate\n",
        "    elif act_19 == 41:\n",
        "        versification = \"4\"  # English\n",
        "    elif rom_16 == 24:\n",
        "        versification = \"6\"  # Russian Orthodox (same as Russian Protestant)\n",
        "    elif jhn_6 == 71 and act_19 == 40:\n",
        "        versification = \"1\"  # Original (Same as Septuagint)\n",
        "    else:\n",
        "        versification = \"\"\n",
        "\n",
        "    return versification\n",
        "\n",
        "\n",
        "def get_last_verse(project, book, chapter):\n",
        "\n",
        "    ch = str(chapter)\n",
        "\n",
        "    for book_file in iglob(f\"{project}/*{book}*\"):\n",
        "        last_verse = \"0\"\n",
        "        try:\n",
        "            f = codecs.open(book_file, \"r\", encoding=\"utf-8\", errors=\"ignore\")\n",
        "        except Exception as e:\n",
        "            print(f\"Could not open {book_file}, reason:  {e}\")\n",
        "            continue\n",
        "        try:\n",
        "            in_chapter = False\n",
        "            for line in f:\n",
        "                m = re.search(r\"\\\\c ? ?([0-9]+).*\", line)\n",
        "                if m:\n",
        "                    if m.group(1) == ch:\n",
        "                        in_chapter = True\n",
        "                    else:\n",
        "                        in_chapter = False\n",
        "\n",
        "                m = re.search(r\"\\\\v ? ?([0-9]+).*\", line)\n",
        "                if m:\n",
        "                    if in_chapter:\n",
        "                        last_verse = m.group(1)\n",
        "        except Exception as e:\n",
        "            print(f\"Something went wrong in reading {book_file}, reason:  {e}\")\n",
        "            return None\n",
        "        try:\n",
        "            return int(last_verse)\n",
        "        except Exception as e:\n",
        "            print(f\"Could not convert {last_verse} into an integer in {book_file}, reason:  {e}\")\n",
        "            return None\n",
        "\n",
        "\n",
        "def get_checkpoints_OT(project):\n",
        "    dan_3 = get_last_verse(project, \"DAN\", 3)\n",
        "    dan_5 = get_last_verse(project, \"DAN\", 5)\n",
        "    dan_13 = get_last_verse(project, \"DAN\", 13)\n",
        "\n",
        "    return dan_3, dan_5, dan_13\n",
        "\n",
        "\n",
        "def get_checkpoints_NT(project):\n",
        "    jhn_6 = get_last_verse(project, \"JHN\", 6)\n",
        "    act_19 = get_last_verse(project, \"ACT\", 19)\n",
        "    rom_16 = get_last_verse(project, \"ROM\", 16)\n",
        "\n",
        "    return jhn_6, act_19, rom_16\n",
        "\n",
        "\n",
        "def get_versification(project):\n",
        "    versification = \"\"\n",
        "    books = get_books_type(listdir(project))\n",
        "\n",
        "    if books == \"OT+NT\":\n",
        "        dan_3, dan_5, dan_13 = get_checkpoints_OT(project)\n",
        "        versification = conclude_versification_from_OT(dan_3, dan_5, dan_13)\n",
        "\n",
        "    if not versification:\n",
        "        jhn_6, act_19, rom_16 = get_checkpoints_NT(project)\n",
        "        versification = conclude_versification_from_NT(jhn_6, act_19, rom_16)\n",
        "\n",
        "    return versification\n",
        "\n",
        "\n",
        "def add_settings_file(project, language_code):\n",
        "    versification = get_conclusion(get_versification(project))\n",
        "    a = \"\"\"\n",
        "    a\n",
        "    <b>\n",
        "    c\n",
        "    \"\"\"\n",
        "    \n",
        "    setting_file_stub = f\"\"\"\n",
        "<ScriptureText>\n",
        "    <Versification>{versification}</Versification>\n",
        "    <LanguageIsoCode>{language_code}:::</LanguageIsoCode>\n",
        "    <Naming BookNameForm=\"41-MAT\" PostPart=\"{project.name}.usfm\" PrePart=\"\" />\n",
        "</ScriptureText>\n",
        "\"\"\"\n",
        "\n",
        "    settings_file = project / 'Settings.xml'\n",
        "    f = open(settings_file, \"w\")\n",
        "    f.write(setting_file_stub)\n",
        "    f.close()\n",
        "\n",
        "\n",
        "def get_redistributable_projects():\n",
        "\n",
        "    ok_copyrights = [\"by-nc-nd\", \"by-nd\", \"by-sa\"]\n",
        "    redistributable = {}\n",
        "    translations_info = pd.read_csv(ebible_translations_csv)\n",
        "    copyright_info = pd.read_csv(ebible_copyright_csv)\n",
        "    improve_column_names(translations_info)\n",
        "    improve_column_names(copyright_info)\n",
        "    copyright_info.rename(columns={'id': 'translationid'}, inplace=True)\n",
        "    combined = pd.merge(translations_info, copyright_info, on='translationid', how='left')\n",
        "\n",
        "    for index, row in combined.iterrows():\n",
        "        if row[\"redistributable\"] and (row[\"licence_type\"] in ok_copyrights or row[\"copyright_holder\"] == \"Public Domain\"):\n",
        "            redistributable[row[\"translationid\"]] = row[\"languagecode\"]\n",
        "    return redistributable\n"
      ]
    },
    {
      "cell_type": "markdown",
      "metadata": {
        "id": "8oQDn6UjoYw1"
      },
      "source": [
        "# Prepare redistributable projects to be extracted. "
      ]
    },
    {
      "cell_type": "code",
      "execution_count": null,
      "metadata": {
        "id": "RJxJjQnsvx_z"
      },
      "outputs": [],
      "source": [
        "# log_file = open(ebible_logs / f\"run_{date.today()}.log\", \"a\")\n",
        "# log_and_print(f\"Starting converting eBible projects for extracting...\")\n",
        "\n",
        "# # Create target directory if it doesn't exist already\n",
        "# makedirs(ebible_redistributable, exist_ok=True)\n",
        "\n",
        "# # Make dictionary of copyright free projects in eBible.\n",
        "# redistributable = get_redistributable_projects()\n",
        "\n",
        "# # Copy redistributable eBible projects into working directory, and add settings files\n",
        "# copied = 0\n",
        "# for project in ebible_projects.iterdir():\n",
        "#     if project.name in redistributable:\n",
        "#         copied += copy_to_working_directory(project, redistributable[project.name])\n",
        "\n",
        "# log_and_print(f\"Number of eBible projects: {len([item for item in listdir(ebible_projects)])}\")\n",
        "# log_and_print(f\"Number of redistributable eBible projects: {len(redistributable)}\")\n",
        "# log_and_print(f\"{copied} projects copied to {ebible_redistributable}\")\n",
        "# log_and_print(f\"Rewrite {rewrite}\")\n",
        "# log_file.close()"
      ]
    },
    {
      "cell_type": "markdown",
      "source": [
        "# Extract projects"
      ],
      "metadata": {
        "id": "fYcGRtGB1eRu"
      }
    },
    {
      "cell_type": "code",
      "source": [
        "log_file = open(ebible_logs / f\"run_{date.today()}.log\", \"a\")\n",
        "log_and_print(f\"Starting extracting eBible projects...\")\n",
        "\n",
        "# Tell the SIL NLP tools where to find the resources\n",
        "environ['SIL_NLP_DATA_PATH'] = base\n",
        "environ['SIL_NLP_MT_DIR'] = \"extractions\"\n",
        "\n",
        "# Tell Python where to find our repo\n",
        "environ['PYTHONPATH'] = \"/env/python:/content/silnlp\"\n",
        "\n",
        "# Create target directory if it doesn't exist already\n",
        "makedirs(ebible_extractions, exist_ok=True)\n",
        "\n",
        "# Make dictionary of copyright free projects in eBible.\n",
        "redistributable = get_redistributable_projects()\n",
        "\n",
        "extracted = get_extracted_projects(ebible_extractions)\n",
        "nr_extracted = len(extracted)\n",
        "\n",
        "for project in sorted(ebible_projects.glob(\"*\")):\n",
        "    if project.name in redistributable and (not project.name in extracted or rewrite):\n",
        "        log_and_print(f\"extracting {project}\")\n",
        "        add_settings_file(project, redistributable[project.name])\n",
        "        !python -m silnlp.common.extract_corpora \"{project}\"\n",
        "\n",
        "log_and_print(f\"{len(get_extracted_projects(ebible_extractions)) - nr_extracted} new eBible projects extracted\")\n",
        "log_and_print(f\"Rewrite {rewrite}\")\n",
        "log_file.close()"
      ],
      "metadata": {
        "colab": {
          "base_uri": "https://localhost:8080/"
        },
        "id": "r17FtPQpJBeJ",
        "outputId": "e3bfc3a0-7d33-4b67-95ac-c3c48af1f6e3"
      },
      "execution_count": 20,
      "outputs": [
        {
          "output_type": "stream",
          "name": "stdout",
          "text": [
            "Starting extracting eBible projects...\n",
            "extracting /content/drive/MyDrive/eBible/projects/aai\n",
            "2022-11-02 10:26:32,970 - silnlp.common.environment - INFO - Using workspace: /content/drive/MyDrive/eBible as per environment variable SIL_NLP_DATA_PATH.\n",
            "2022-11-02 10:26:32,996 - silnlp.common.extract_corpora - INFO - Extracting /content/drive/MyDrive/eBible/projects/aai...\n",
            "2022-11-02 10:26:43,619 - silnlp.common.extract_corpora - INFO - # of Verses: 41899\n",
            "2022-11-02 10:26:43,620 - silnlp.common.extract_corpora - INFO - # of Terms: 0\n",
            "2022-11-02 10:26:43,620 - silnlp.common.extract_corpora - INFO - Done.\n",
            "1 new eBible projects extracted\n",
            "Rewrite False\n"
          ]
        }
      ]
    }
  ],
  "metadata": {
    "colab": {
      "collapsed_sections": [],
      "provenance": [],
      "include_colab_link": true
    },
    "kernelspec": {
      "display_name": "Python 3",
      "name": "python3"
    }
  },
  "nbformat": 4,
  "nbformat_minor": 0
}