{
  "cells": [
    {
      "cell_type": "markdown",
      "metadata": {
        "id": "view-in-github",
        "colab_type": "text"
      },
      "source": [
        "<a href=\"https://colab.research.google.com/github/vesaakerman/hello-world/blob/master/Prepare_folder_for_extractions.ipynb\" target=\"_parent\"><img src=\"https://colab.research.google.com/assets/colab-badge.svg\" alt=\"Open In Colab\"/></a>"
      ]
    },
    {
      "cell_type": "code",
      "execution_count": null,
      "metadata": {
        "colab": {
          "base_uri": "https://localhost:8080/"
        },
        "id": "_8dvXZnMNniY",
        "outputId": "b85a7d4d-8b77-4662-e67a-0fc2bd89d97c"
      },
      "outputs": [
        {
          "output_type": "stream",
          "name": "stdout",
          "text": [
            "Mounted at /content/drive\n"
          ]
        }
      ],
      "source": [
        "from google.colab import drive\n",
        "drive.mount('/content/drive')"
      ]
    },
    {
      "cell_type": "markdown",
      "source": [
        "# Define base folder"
      ],
      "metadata": {
        "id": "awnVICVNmGVf"
      }
    },
    {
      "cell_type": "code",
      "source": [
        "base = \"/content/drive/MyDrive/\""
      ],
      "metadata": {
        "id": "V-dpuImLmX4J"
      },
      "execution_count": null,
      "outputs": []
    },
    {
      "cell_type": "markdown",
      "metadata": {
        "id": "j6Az2jLOoHPa"
      },
      "source": [
        "# Import modules, define directory paths and logging file"
      ]
    },
    {
      "cell_type": "code",
      "execution_count": null,
      "metadata": {
        "colab": {
          "base_uri": "https://localhost:8080/"
        },
        "id": "JsAEZs5WoPbv",
        "outputId": "87cd30fe-cab1-45c5-c44f-72d5bdb04f55"
      },
      "outputs": [
        {
          "output_type": "stream",
          "name": "stdout",
          "text": [
            "/content/drive/MyDrive/eBible_projects\n",
            "/content/drive/MyDrive/eBible_metadata\n",
            "/content/drive/MyDrive/eBible_metadata/translations.csv\n",
            "/content/drive/MyDrive/eBible_metadata/copyrights.csv\n",
            "/content/drive/MyDrive/eBible_redistributable/projects\n",
            "/content/drive/MyDrive/eBible_redistributable/run_2022-10-06.log\n",
            "/content/drive/Shareddrives/Partnership for Applied Biblical NLP/Data/Corpora/Paratext_projects\n"
          ]
        }
      ],
      "source": [
        "from pathlib import Path\n",
        "from datetime import date, datetime\n",
        "from os import listdir\n",
        "from os.path import exists\n",
        "import pandas as pd\n",
        "import shutil\n",
        "import warnings\n",
        "import xml.etree.ElementTree as ET\n",
        "import re\n",
        "\n",
        "warnings.simplefilter(action='ignore', category=FutureWarning)\n",
        "\n",
        "corpus = Path(base)\n",
        "ebible_projects_folder = corpus / 'eBible_projects'\n",
        "ebible_metadata_folder = corpus / 'eBible_metadata'\n",
        "ebible_translations_csv = ebible_metadata_folder / 'translations.csv'\n",
        "ebible_copyright_csv = ebible_metadata_folder / 'copyrights.csv'\n",
        "paratext_projects_folder = Path(\"/content/drive/Shareddrives/Partnership for Applied Biblical NLP/Data/Corpora/Paratext_projects\")\n",
        "\n",
        "working_dir_for_extraction = corpus / \"eBible_redistributable/projects\"\n",
        "working_dir_for_extraction.mkdir(parents=True, exist_ok=True)\n",
        "\n",
        "log_file_path = corpus / f\"eBible_redistributable/run_{date.today()}.log\"\n",
        "\n",
        "print(ebible_projects_folder)\n",
        "print(ebible_metadata_folder)\n",
        "print(ebible_translations_csv)\n",
        "print(ebible_copyright_csv)\n",
        "print(working_dir_for_extraction)\n",
        "print(log_file_path)\n",
        "print(paratext_projects_folder)"
      ]
    },
    {
      "cell_type": "markdown",
      "metadata": {
        "id": "lMdkvOPbzdMg"
      },
      "source": [
        "# Define methods"
      ]
    },
    {
      "cell_type": "code",
      "execution_count": null,
      "metadata": {
        "id": "mHI0bcJYz6ID"
      },
      "outputs": [],
      "source": [
        "# Columns are easier to use if they are valid python identifiers:\n",
        "def improve_column_names(df): df.columns = df.columns.str.strip().str.lower().str.replace('\"', '').str.replace(\"'\", '')\\\n",
        "    .str.replace('(', '').str.replace(')', '').str.replace(' ', '_')\n",
        "\n",
        "\n",
        "def log_and_print(s, type='ínfo'):\n",
        "    if type == \"error\":\n",
        "        log_file.write(f\"ERROR: {datetime.now()} {s}\\n\")\n",
        "    else:\n",
        "        log_file.write(f\"INFO: {datetime.now()} {s}\\n\")\n",
        "    print(s)\n",
        "\n",
        "\n",
        "def add_settings_file(project, language_code):\n",
        "    fake_setting_file = \"\"\"<ScriptureText>\n",
        "    <Versification>4</Versification>\n",
        "    <LanguageIsoCode>aak:::</LanguageIsoCode>\n",
        "    <Naming BookNameForm=\"41-MAT\" PostPart=\".usfm\" PrePart=\"\" />\n",
        "</ScriptureText>\"\"\"\n",
        "\n",
        "    settings_file = project / 'Settings.xml'\n",
        "    f = open(settings_file, \"w\")\n",
        "    f.write(fake_setting_file)\n",
        "    f.close()\n",
        "\n",
        "    try:\n",
        "        tree = ET.parse(settings_file)\n",
        "        naming = tree.find('.//Naming')\n",
        "        naming.attrib['PostPart'] = naming.attrib['PostPart'].replace('.', project.name + '.')\n",
        "        iso = tree.find('.//LanguageIsoCode')\n",
        "        iso.text = f\"{language_code}:::\"\n",
        "        tree.write(settings_file)\n",
        "    except FileNotFoundError:\n",
        "        log_and_print(f\"could not find file {settings_file}\")\n",
        "    except IndexError:\n",
        "        log_and_print(f\"IndexError finding Naming in {settings_file}\")\n",
        "        pass\n",
        "\n",
        "\n",
        "def get_matching_paratext_project_name(paratext_projects, project_name):\n",
        "    if exists(paratext_projects / project_name):\n",
        "        return project_name\n",
        "    elif project_name.startswith(\"eng-\"):\n",
        "        name = project_name.replace(\"eng-\", \"eng\")\n",
        "        if (paratext_projects / name).exists():\n",
        "            return name\n",
        "        else:\n",
        "            m = re.search('(.*?)[0-9]+', name)\n",
        "            if m and m.group(1) and (paratext_projects / m.group(1)).exists():\n",
        "                return m.group(1)\n",
        "    return None\n",
        "\n",
        "\n",
        "def get_matching_paratext_projects(paratext_projects, ebible_projects):\n",
        "    matching_projects = []\n",
        "\n",
        "    for project in ebible_projects.glob(\"*\"):\n",
        "        matching_paratext_project = get_matching_paratext_project_name(paratext_projects, project.name)\n",
        "        if matching_paratext_project:\n",
        "            matching_projects.append((project.name, matching_paratext_project))\n",
        "\n",
        "    return matching_projects\n",
        "\n",
        "\n",
        "def get_versification_from_settings_file(settings_file):\n",
        "    versification = None\n",
        "    try:\n",
        "        tree = ET.parse(settings_file)\n",
        "        versification_elem = tree.find('.//Versification')\n",
        "        try:\n",
        "            versification = versification_elem.text\n",
        "        except:\n",
        "            pass\n",
        "    except FileNotFoundError:\n",
        "        log_and_print(f\"could not find file {settings_file}\", \"error\")\n",
        "    except IndexError:\n",
        "        log_and_print(f\"IndexError finding Naming in {settings_file}\", \"error\")\n",
        "        pass\n",
        "    return versification\n",
        "\n",
        "\n",
        "def modify_versification(settings_file, versification_code):\n",
        "    try:\n",
        "        tree = ET.parse(settings_file)\n",
        "        versification = tree.find('.//Versification')\n",
        "        versification.text = versification_code\n",
        "        tree.write(settings_file)\n",
        "    except FileNotFoundError:\n",
        "        log_and_print(f\"could not find file {settings_file}\", \"error\")\n",
        "    except IndexError:\n",
        "        log_and_print(f\"IndexError finding Naming in {settings_file}\", \"error\")\n",
        "        pass\n",
        "\n",
        "\n",
        "def copy_paratext_versification_info(matching_projects, paratext_projects, target_dir):\n",
        "\n",
        "    log_and_print(f\"copying paratext versification information for matching projects...\")\n",
        "    for (eBible_project, paratext_project) in matching_projects:\n",
        "        settings_file = paratext_projects / paratext_project / \"Settings.xml\"\n",
        "        custom_vrs = paratext_projects / paratext_project / \"custom.vrs\"\n",
        "        if settings_file.exists():\n",
        "            versification = get_versification_from_settings_file(settings_file)\n",
        "            if versification and versification != \"4\":\n",
        "                log_and_print(f\"copying versification {versification} from Paratext for project {eBible_project}\")\n",
        "                modify_versification(target_dir / eBible_project / \"Settings.xml\", versification)\n",
        "        if custom_vrs.exists():\n",
        "            log_and_print(f\"copying custom versification file from Paratext for project {eBible_project}\")\n",
        "            shutil.copy(custom_vrs, target_dir / eBible_project)\n",
        "\n",
        "\n",
        "def get_redistributable_projects():\n",
        "\n",
        "    ok_copyrights = [\"by-nc-nd\", \"by-nd\", \"by-sa\"]\n",
        "    redistributable = {}\n",
        "    translations_info = pd.read_csv(ebible_translations_csv)\n",
        "    copyright_info = pd.read_csv(ebible_copyright_csv)\n",
        "    improve_column_names(translations_info)\n",
        "    improve_column_names(copyright_info)\n",
        "    copyright_info.rename(columns={'id': 'translationid'}, inplace=True)\n",
        "    combined = pd.merge(translations_info, copyright_info, on='translationid', how='left')\n",
        "\n",
        "    for index, row in combined.iterrows():\n",
        "        if row[\"redistributable\"] and (row[\"licence_type\"] in ok_copyrights or row[\"copyright_holder\"] == \"Public Domain\"):\n",
        "            redistributable[row[\"translationid\"]] = row[\"languagecode\"]\n",
        "\n",
        "    return redistributable\n",
        "\n",
        "def copy_to_working_directory(project):\n",
        "    folder = working_dir_for_extraction / project.name\n",
        "    log_and_print(f\"copying {project.name} to {working_dir_for_extraction}\")\n",
        "    if exists(folder):\n",
        "      shutil.rmtree(folder)\n",
        "    shutil.copytree(project, folder)\n",
        "  \n"
      ]
    },
    {
      "cell_type": "markdown",
      "metadata": {
        "id": "8oQDn6UjoYw1"
      },
      "source": [
        "# Copy eBible .usfm files into a working directory and add settings files. When corresponding Paratext project found, versification is adjusted and a possible custom versification file is copied. "
      ]
    },
    {
      "cell_type": "code",
      "execution_count": null,
      "metadata": {
        "id": "RJxJjQnsvx_z",
        "colab": {
          "base_uri": "https://localhost:8080/"
        },
        "outputId": "d51192b5-f48f-47a9-bcca-f769c5322f53"
      },
      "outputs": [
        {
          "output_type": "stream",
          "name": "stdout",
          "text": [
            "copying aau to /content/drive/MyDrive/eBible_redistributable/projects\n",
            "copying aak to /content/drive/MyDrive/eBible_redistributable/projects\n",
            "copying aaz to /content/drive/MyDrive/eBible_redistributable/projects\n",
            "copying paratext versification information for matching projects...\n",
            "Number of redistributable eBible projects: 3\n",
            "Number of eBible projects: 3\n",
            "Number of matching Paratext projects: 3\n",
            "Number of eBible projects to be extracted: 3\n",
            "Files extracted to /content/drive/MyDrive/eBible_redistributable/projects\n",
            "Log file: /content/drive/MyDrive/eBible_redistributable/run_2022-10-06.log\n"
          ]
        }
      ],
      "source": [
        "log_file = open(log_file_path, \"a\")\n",
        "\n",
        "# Make dictionary of copyright free projects in eBible.\n",
        "redistributable = get_redistributable_projects()\n",
        "\n",
        "# Copy redistributable eBible projects into working directory, and add settings files\n",
        "for project in ebible_projects_folder.iterdir():\n",
        "    if project.name in redistributable:\n",
        "        copy_to_working_directory(project)\n",
        "        add_settings_file(working_dir_for_extraction / project.name, redistributable[project.name])\n",
        "\n",
        "# Modify versification in settings file if found in matching Paratext project,\n",
        "# and copy custom versification file from matching Paratext project if found.\n",
        "matching_projects = get_matching_paratext_projects(paratext_projects_folder, working_dir_for_extraction)\n",
        "copy_paratext_versification_info(matching_projects, paratext_projects_folder, working_dir_for_extraction)\n",
        "\n",
        "log_and_print(f\"Number of redistributable eBible projects: {len(redistributable)}\")\n",
        "log_and_print(f\"Number of eBible projects: {len([item for item in listdir(ebible_projects_folder)])}\")\n",
        "log_and_print(f\"Number of matching Paratext projects: {len(matching_projects)}\")\n",
        "log_and_print(f\"Number of eBible projects to be extracted: {len([item for item in listdir(working_dir_for_extraction)])}\")\n",
        "log_and_print(f\"Files extracted to {working_dir_for_extraction}\")\n",
        "log_and_print(f\"Log file: {log_file_path}\")\n",
        "log_file.close()\n"
      ]
    }
  ],
  "metadata": {
    "accelerator": "GPU",
    "colab": {
      "collapsed_sections": [],
      "provenance": [],
      "include_colab_link": true
    },
    "kernelspec": {
      "display_name": "Python 3",
      "name": "python3"
    }
  },
  "nbformat": 4,
  "nbformat_minor": 0
}